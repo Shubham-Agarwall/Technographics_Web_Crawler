{
 "cells": [
  {
   "cell_type": "code",
   "execution_count": 8,
   "id": "1a8e27e6",
   "metadata": {},
   "outputs": [],
   "source": [
    "import pandas as pd\n",
    "import json\n",
    "import time\n",
    "import os\n",
    "from selenium import webdriver\n",
    "from selenium.webdriver.firefox.options import Options as FirefoxOptions\n",
    "from webdriver_manager.firefox import GeckoDriverManager\n",
    "from selenium.webdriver.common.action_chains import ActionChains\n",
    "from selenium.webdriver.firefox.service import Service\n",
    "from selenium.webdriver.common.by import By\n",
    "from selenium.webdriver.support.ui import WebDriverWait\n",
    "from selenium.webdriver.support import expected_conditions as EC\n",
    "from selenium.webdriver.support.wait import WebDriverWait\n",
    "from selenium.common.exceptions import NoSuchElementException\n",
    "from selenium.common.exceptions import TimeoutException\n",
    "from datetime import datetime\n",
    "\n",
    "#User Agent\n",
    "from fake_useragent import UserAgent\n",
    "import requests\n",
    "import random\n",
    "from pprint import pprint\n",
    "from fake_useragent import UserAgent\n",
    "from collections import OrderedDict\n",
    "\n",
    "#BS4\n",
    "from bs4 import BeautifulSoup"
   ]
  },
  {
   "cell_type": "code",
   "execution_count": 9,
   "id": "534dc97c",
   "metadata": {},
   "outputs": [
    {
     "data": {
      "text/plain": [
       "'/Users/shagarwal/Documents/HG_Insights/SubCat_description_from_hg/script'"
      ]
     },
     "execution_count": 9,
     "metadata": {},
     "output_type": "execute_result"
    }
   ],
   "source": [
    "import os\n",
    "os.getcwd()"
   ]
  },
  {
   "cell_type": "code",
   "execution_count": 10,
   "id": "a30a9e2a",
   "metadata": {},
   "outputs": [
    {
     "name": "stderr",
     "output_type": "stream",
     "text": [
      "/var/folders/19/rxnzmy3s3451t4_8x5tm5vdr0000gp/T/ipykernel_48425/3803114118.py:17: DeprecationWarning: firefox_profile has been deprecated, please use an Options object\n",
      "  profile = webdriver.FirefoxProfile()\n",
      "\n",
      "\n",
      "====== WebDriver manager ======\n",
      "GH_TOKEN will be used to perform requests\n",
      "Current firefox version is 100.0\n",
      "Get LATEST geckodriver version for 100.0 firefox\n",
      "Driver [/Users/shagarwal/.wdm/drivers/geckodriver/macos/v0.31.0/geckodriver] found in cache\n"
     ]
    },
    {
     "name": "stdout",
     "output_type": "stream",
     "text": [
      "<selenium.webdriver.firefox.firefox_profile.FirefoxProfile object at 0x7f89a154a520>\n",
      "<fake_useragent.fake.FakeUserAgent object at 0x7f89a154ac70>\n",
      "TELESYNERGY, https://discovery.hgdata.com/collection/telesynergy-products-services, All products and technologies we track from TELESYNERGY\n"
     ]
    },
    {
     "name": "stderr",
     "output_type": "stream",
     "text": [
      "\n",
      "\n",
      "====== WebDriver manager ======\n",
      "GH_TOKEN will be used to perform requests\n",
      "Current firefox version is 100.0\n",
      "Get LATEST geckodriver version for 100.0 firefox\n",
      "Driver [/Users/shagarwal/.wdm/drivers/geckodriver/macos/v0.31.0/geckodriver] found in cache\n"
     ]
    },
    {
     "name": "stdout",
     "output_type": "stream",
     "text": [
      "<selenium.webdriver.firefox.firefox_profile.FirefoxProfile object at 0x7f89a154ac70>\n",
      "<fake_useragent.fake.FakeUserAgent object at 0x7f89a154ad60>\n",
      "Tethr, https://discovery.hgdata.com/collection/tethr-products-services, All products and technologies we track from Tethr\n"
     ]
    },
    {
     "name": "stderr",
     "output_type": "stream",
     "text": [
      "\n",
      "\n",
      "====== WebDriver manager ======\n",
      "GH_TOKEN will be used to perform requests\n",
      "Current firefox version is 100.0\n",
      "Get LATEST geckodriver version for 100.0 firefox\n",
      "Driver [/Users/shagarwal/.wdm/drivers/geckodriver/macos/v0.31.0/geckodriver] found in cache\n"
     ]
    },
    {
     "name": "stdout",
     "output_type": "stream",
     "text": [
      "<selenium.webdriver.firefox.firefox_profile.FirefoxProfile object at 0x7f89a096d4f0>\n",
      "<fake_useragent.fake.FakeUserAgent object at 0x7f89a154ae80>\n",
      "Theronyx, https://discovery.hgdata.com/collection/theronyx-products-services, All products and technologies we track from Theronyx\n"
     ]
    },
    {
     "name": "stderr",
     "output_type": "stream",
     "text": [
      "\n",
      "\n",
      "====== WebDriver manager ======\n",
      "GH_TOKEN will be used to perform requests\n",
      "Current firefox version is 100.0\n",
      "Get LATEST geckodriver version for 100.0 firefox\n",
      "Driver [/Users/shagarwal/.wdm/drivers/geckodriver/macos/v0.31.0/geckodriver] found in cache\n"
     ]
    },
    {
     "name": "stdout",
     "output_type": "stream",
     "text": [
      "<selenium.webdriver.firefox.firefox_profile.FirefoxProfile object at 0x7f89a154ae80>\n",
      "<fake_useragent.fake.FakeUserAgent object at 0x7f89a095a580>\n",
      "ThetaRay, https://discovery.hgdata.com/collection/thetaray-products-services, All products and technologies we track from ThetaRay\n"
     ]
    },
    {
     "name": "stderr",
     "output_type": "stream",
     "text": [
      "\n",
      "\n",
      "====== WebDriver manager ======\n",
      "GH_TOKEN will be used to perform requests\n",
      "Current firefox version is 100.0\n",
      "Get LATEST geckodriver version for 100.0 firefox\n",
      "Driver [/Users/shagarwal/.wdm/drivers/geckodriver/macos/v0.31.0/geckodriver] found in cache\n"
     ]
    },
    {
     "name": "stdout",
     "output_type": "stream",
     "text": [
      "<selenium.webdriver.firefox.firefox_profile.FirefoxProfile object at 0x7f89a095a580>\n",
      "<fake_useragent.fake.FakeUserAgent object at 0x7f89a1531370>\n",
      "Timerack, https://discovery.hgdata.com/collection/timerack-products-services, All products and technologies we track from Timerack\n"
     ]
    },
    {
     "name": "stderr",
     "output_type": "stream",
     "text": [
      "\n",
      "\n",
      "====== WebDriver manager ======\n",
      "GH_TOKEN will be used to perform requests\n",
      "Current firefox version is 100.0\n",
      "Get LATEST geckodriver version for 100.0 firefox\n",
      "Driver [/Users/shagarwal/.wdm/drivers/geckodriver/macos/v0.31.0/geckodriver] found in cache\n"
     ]
    },
    {
     "name": "stdout",
     "output_type": "stream",
     "text": [
      "<selenium.webdriver.firefox.firefox_profile.FirefoxProfile object at 0x7f89a0998970>\n",
      "<fake_useragent.fake.FakeUserAgent object at 0x7f89a09980a0>\n",
      "Tofino Software, https://discovery.hgdata.com/collection/tofino-software-products-services, All products and technologies we track from Tofino Software\n"
     ]
    },
    {
     "name": "stderr",
     "output_type": "stream",
     "text": [
      "\n",
      "\n",
      "====== WebDriver manager ======\n",
      "GH_TOKEN will be used to perform requests\n",
      "Current firefox version is 100.0\n",
      "Get LATEST geckodriver version for 100.0 firefox\n",
      "Driver [/Users/shagarwal/.wdm/drivers/geckodriver/macos/v0.31.0/geckodriver] found in cache\n"
     ]
    },
    {
     "name": "stdout",
     "output_type": "stream",
     "text": [
      "<selenium.webdriver.firefox.firefox_profile.FirefoxProfile object at 0x7f89a09980a0>\n",
      "<fake_useragent.fake.FakeUserAgent object at 0x7f89a09987c0>\n",
      "Tomahawk Tourism Marketing, https://discovery.hgdata.com/collection/tomahawk-tourism-marketing-products-services, All products and technologies we track from Tomahawk Tourism Marketing\n"
     ]
    },
    {
     "name": "stderr",
     "output_type": "stream",
     "text": [
      "\n",
      "\n",
      "====== WebDriver manager ======\n",
      "GH_TOKEN will be used to perform requests\n",
      "Current firefox version is 100.0\n",
      "Get LATEST geckodriver version for 100.0 firefox\n",
      "Driver [/Users/shagarwal/.wdm/drivers/geckodriver/macos/v0.31.0/geckodriver] found in cache\n"
     ]
    },
    {
     "name": "stdout",
     "output_type": "stream",
     "text": [
      "<selenium.webdriver.firefox.firefox_profile.FirefoxProfile object at 0x7f89a09987c0>\n",
      "<fake_useragent.fake.FakeUserAgent object at 0x7f89a0998730>\n",
      "Total Management, https://discovery.hgdata.com/collection/total-management-products-services, All products and technologies we track from Total Management\n"
     ]
    },
    {
     "name": "stderr",
     "output_type": "stream",
     "text": [
      "\n",
      "\n",
      "====== WebDriver manager ======\n",
      "GH_TOKEN will be used to perform requests\n",
      "Current firefox version is 100.0\n",
      "Get LATEST geckodriver version for 100.0 firefox\n",
      "Driver [/Users/shagarwal/.wdm/drivers/geckodriver/macos/v0.31.0/geckodriver] found in cache\n"
     ]
    },
    {
     "name": "stdout",
     "output_type": "stream",
     "text": [
      "<selenium.webdriver.firefox.firefox_profile.FirefoxProfile object at 0x7f89a0998730>\n",
      "<fake_useragent.fake.FakeUserAgent object at 0x7f89a099a400>\n",
      "Signant Health, https://discovery.hgdata.com/collection/signant-health-products-services, All products and technologies we track from Signant Health\n"
     ]
    },
    {
     "name": "stderr",
     "output_type": "stream",
     "text": [
      "\n",
      "\n",
      "====== WebDriver manager ======\n",
      "GH_TOKEN will be used to perform requests\n",
      "Current firefox version is 100.0\n",
      "Get LATEST geckodriver version for 100.0 firefox\n",
      "Driver [/Users/shagarwal/.wdm/drivers/geckodriver/macos/v0.31.0/geckodriver] found in cache\n"
     ]
    },
    {
     "name": "stdout",
     "output_type": "stream",
     "text": [
      "<selenium.webdriver.firefox.firefox_profile.FirefoxProfile object at 0x7f89a099a400>\n",
      "<fake_useragent.fake.FakeUserAgent object at 0x7f89a099a8e0>\n",
      "TriSys Business Software, https://discovery.hgdata.com/collection/trisys-business-software-products-services, All products and technologies we track from TriSys Business Software\n"
     ]
    },
    {
     "name": "stderr",
     "output_type": "stream",
     "text": [
      "\n",
      "\n",
      "====== WebDriver manager ======\n",
      "GH_TOKEN will be used to perform requests\n",
      "Current firefox version is 100.0\n",
      "Get LATEST geckodriver version for 100.0 firefox\n",
      "Driver [/Users/shagarwal/.wdm/drivers/geckodriver/macos/v0.31.0/geckodriver] found in cache\n"
     ]
    },
    {
     "name": "stdout",
     "output_type": "stream",
     "text": [
      "<selenium.webdriver.firefox.firefox_profile.FirefoxProfile object at 0x7f89a099a8e0>\n",
      "<fake_useragent.fake.FakeUserAgent object at 0x7f89a099af40>\n",
      "TrueERP, https://discovery.hgdata.com/collection/trueerp-products-services, All products and technologies we track from TrueERP\n"
     ]
    },
    {
     "name": "stderr",
     "output_type": "stream",
     "text": [
      "\n",
      "\n",
      "====== WebDriver manager ======\n",
      "GH_TOKEN will be used to perform requests\n",
      "Current firefox version is 100.0\n",
      "Get LATEST geckodriver version for 100.0 firefox\n",
      "Driver [/Users/shagarwal/.wdm/drivers/geckodriver/macos/v0.31.0/geckodriver] found in cache\n"
     ]
    },
    {
     "name": "stdout",
     "output_type": "stream",
     "text": [
      "<selenium.webdriver.firefox.firefox_profile.FirefoxProfile object at 0x7f89a0ef4250>\n",
      "<fake_useragent.fake.FakeUserAgent object at 0x7f89a0ef44c0>\n",
      "TurboSMTP, https://discovery.hgdata.com/collection/turbosmtp-products-services, All products and technologies we track from TurboSMTP\n"
     ]
    },
    {
     "name": "stderr",
     "output_type": "stream",
     "text": [
      "\n",
      "\n",
      "====== WebDriver manager ======\n",
      "GH_TOKEN will be used to perform requests\n",
      "Current firefox version is 100.0\n",
      "Get LATEST geckodriver version for 100.0 firefox\n",
      "Driver [/Users/shagarwal/.wdm/drivers/geckodriver/macos/v0.31.0/geckodriver] found in cache\n"
     ]
    },
    {
     "name": "stdout",
     "output_type": "stream",
     "text": [
      "<selenium.webdriver.firefox.firefox_profile.FirefoxProfile object at 0x7f89a0ef44c0>\n",
      "<fake_useragent.fake.FakeUserAgent object at 0x7f89a0ef4310>\n",
      "Expat Software, https://discovery.hgdata.com/collection/expat-software-products-services, All products and technologies we track from Expat Software\n"
     ]
    },
    {
     "name": "stderr",
     "output_type": "stream",
     "text": [
      "\n",
      "\n",
      "====== WebDriver manager ======\n",
      "GH_TOKEN will be used to perform requests\n",
      "Current firefox version is 100.0\n",
      "Get LATEST geckodriver version for 100.0 firefox\n",
      "Driver [/Users/shagarwal/.wdm/drivers/geckodriver/macos/v0.31.0/geckodriver] found in cache\n"
     ]
    },
    {
     "name": "stdout",
     "output_type": "stream",
     "text": [
      "<selenium.webdriver.firefox.firefox_profile.FirefoxProfile object at 0x7f89a096d7c0>\n",
      "<fake_useragent.fake.FakeUserAgent object at 0x7f89a0ef43a0>\n",
      "UTC RETAIL, https://discovery.hgdata.com/collection/utc-retail-products-services, All products and technologies we track from UTC RETAIL\n"
     ]
    },
    {
     "name": "stderr",
     "output_type": "stream",
     "text": [
      "\n",
      "\n",
      "====== WebDriver manager ======\n",
      "GH_TOKEN will be used to perform requests\n",
      "Current firefox version is 100.0\n",
      "Get LATEST geckodriver version for 100.0 firefox\n",
      "Driver [/Users/shagarwal/.wdm/drivers/geckodriver/macos/v0.31.0/geckodriver] found in cache\n"
     ]
    },
    {
     "name": "stdout",
     "output_type": "stream",
     "text": [
      "<selenium.webdriver.firefox.firefox_profile.FirefoxProfile object at 0x7f89a0ef43a0>\n",
      "<fake_useragent.fake.FakeUserAgent object at 0x7f89a096d100>\n",
      "Valohai Oy, https://discovery.hgdata.com/collection/valohai-oy-products-services, All products and technologies we track from Valohai Oy\n"
     ]
    },
    {
     "name": "stderr",
     "output_type": "stream",
     "text": [
      "\n",
      "\n",
      "====== WebDriver manager ======\n",
      "GH_TOKEN will be used to perform requests\n",
      "Current firefox version is 100.0\n",
      "Get LATEST geckodriver version for 100.0 firefox\n",
      "Driver [/Users/shagarwal/.wdm/drivers/geckodriver/macos/v0.31.0/geckodriver] found in cache\n"
     ]
    },
    {
     "name": "stdout",
     "output_type": "stream",
     "text": [
      "<selenium.webdriver.firefox.firefox_profile.FirefoxProfile object at 0x7f89a096d100>\n",
      "<fake_useragent.fake.FakeUserAgent object at 0x7f89a0a20940>\n",
      "VDIworks, https://discovery.hgdata.com/collection/vdiworks-products-services, All products and technologies we track from VDIworks\n"
     ]
    },
    {
     "name": "stderr",
     "output_type": "stream",
     "text": [
      "\n",
      "\n",
      "====== WebDriver manager ======\n",
      "GH_TOKEN will be used to perform requests\n",
      "Current firefox version is 100.0\n",
      "Get LATEST geckodriver version for 100.0 firefox\n",
      "Driver [/Users/shagarwal/.wdm/drivers/geckodriver/macos/v0.31.0/geckodriver] found in cache\n"
     ]
    },
    {
     "name": "stdout",
     "output_type": "stream",
     "text": [
      "<selenium.webdriver.firefox.firefox_profile.FirefoxProfile object at 0x7f89a0a20940>\n",
      "<fake_useragent.fake.FakeUserAgent object at 0x7f89a099a3d0>\n",
      "Vecna, https://discovery.hgdata.com/collection/vecna-products-services, All products and technologies we track from Vecna\n"
     ]
    },
    {
     "name": "stderr",
     "output_type": "stream",
     "text": [
      "\n",
      "\n",
      "====== WebDriver manager ======\n",
      "GH_TOKEN will be used to perform requests\n",
      "Current firefox version is 100.0\n",
      "Get LATEST geckodriver version for 100.0 firefox\n",
      "Driver [/Users/shagarwal/.wdm/drivers/geckodriver/macos/v0.31.0/geckodriver] found in cache\n"
     ]
    },
    {
     "name": "stdout",
     "output_type": "stream",
     "text": [
      "<selenium.webdriver.firefox.firefox_profile.FirefoxProfile object at 0x7f89a154aca0>\n",
      "<fake_useragent.fake.FakeUserAgent object at 0x7f89a154a460>\n",
      "VectorVMS, https://discovery.hgdata.com/collection/vectorvms-products-services, All products and technologies we track from VectorVMS\n"
     ]
    },
    {
     "name": "stderr",
     "output_type": "stream",
     "text": [
      "\n",
      "\n",
      "====== WebDriver manager ======\n",
      "GH_TOKEN will be used to perform requests\n",
      "Current firefox version is 100.0\n",
      "Get LATEST geckodriver version for 100.0 firefox\n",
      "Driver [/Users/shagarwal/.wdm/drivers/geckodriver/macos/v0.31.0/geckodriver] found in cache\n"
     ]
    },
    {
     "name": "stdout",
     "output_type": "stream",
     "text": [
      "<selenium.webdriver.firefox.firefox_profile.FirefoxProfile object at 0x7f89a154a460>\n",
      "<fake_useragent.fake.FakeUserAgent object at 0x7f89a154a490>\n",
      "Verve Industrial Protection, https://discovery.hgdata.com/collection/verve-industrial-protection-products-services, All products and technologies we track from Verve Industrial Protection\n"
     ]
    },
    {
     "name": "stderr",
     "output_type": "stream",
     "text": [
      "\n",
      "\n",
      "====== WebDriver manager ======\n",
      "GH_TOKEN will be used to perform requests\n",
      "Current firefox version is 100.0\n",
      "Get LATEST geckodriver version for 100.0 firefox\n",
      "Driver [/Users/shagarwal/.wdm/drivers/geckodriver/macos/v0.31.0/geckodriver] found in cache\n"
     ]
    },
    {
     "name": "stdout",
     "output_type": "stream",
     "text": [
      "<selenium.webdriver.firefox.firefox_profile.FirefoxProfile object at 0x7f89a154a490>\n",
      "<fake_useragent.fake.FakeUserAgent object at 0x7f89a154a340>\n",
      "Vienna Advantage, https://discovery.hgdata.com/collection/vienna-advantage-products-services, All products and technologies we track from Vienna Advantage\n"
     ]
    },
    {
     "name": "stderr",
     "output_type": "stream",
     "text": [
      "\n",
      "\n",
      "====== WebDriver manager ======\n",
      "GH_TOKEN will be used to perform requests\n",
      "Current firefox version is 100.0\n",
      "Get LATEST geckodriver version for 100.0 firefox\n",
      "Driver [/Users/shagarwal/.wdm/drivers/geckodriver/macos/v0.31.0/geckodriver] found in cache\n"
     ]
    },
    {
     "name": "stdout",
     "output_type": "stream",
     "text": [
      "<selenium.webdriver.firefox.firefox_profile.FirefoxProfile object at 0x7f89a154a340>\n",
      "<fake_useragent.fake.FakeUserAgent object at 0x7f89a1b40850>\n",
      "Zudy Software, https://discovery.hgdata.com/collection/zudy-software-products-services, All products and technologies we track from Zudy Software\n"
     ]
    },
    {
     "name": "stderr",
     "output_type": "stream",
     "text": [
      "\n",
      "\n",
      "====== WebDriver manager ======\n",
      "GH_TOKEN will be used to perform requests\n",
      "Current firefox version is 100.0\n",
      "Get LATEST geckodriver version for 100.0 firefox\n",
      "Driver [/Users/shagarwal/.wdm/drivers/geckodriver/macos/v0.31.0/geckodriver] found in cache\n"
     ]
    },
    {
     "name": "stdout",
     "output_type": "stream",
     "text": [
      "<selenium.webdriver.firefox.firefox_profile.FirefoxProfile object at 0x7f89a1b40850>\n",
      "<fake_useragent.fake.FakeUserAgent object at 0x7f89a096d160>\n",
      "Virto Commerce, https://discovery.hgdata.com/collection/virto-commerce-products-services, All products and technologies we track from Virto Commerce\n"
     ]
    },
    {
     "name": "stderr",
     "output_type": "stream",
     "text": [
      "\n",
      "\n",
      "====== WebDriver manager ======\n",
      "GH_TOKEN will be used to perform requests\n",
      "Current firefox version is 100.0\n",
      "Get LATEST geckodriver version for 100.0 firefox\n",
      "Driver [/Users/shagarwal/.wdm/drivers/geckodriver/macos/v0.31.0/geckodriver] found in cache\n"
     ]
    },
    {
     "name": "stdout",
     "output_type": "stream",
     "text": [
      "<selenium.webdriver.firefox.firefox_profile.FirefoxProfile object at 0x7f89a0998a00>\n",
      "<fake_useragent.fake.FakeUserAgent object at 0x7f89a096d730>\n",
      "Virtusize, https://discovery.hgdata.com/collection/virtusize-products-services, All products and technologies we track from Virtusize\n"
     ]
    },
    {
     "name": "stderr",
     "output_type": "stream",
     "text": [
      "\n",
      "\n",
      "====== WebDriver manager ======\n",
      "GH_TOKEN will be used to perform requests\n",
      "Current firefox version is 100.0\n",
      "Get LATEST geckodriver version for 100.0 firefox\n",
      "Driver [/Users/shagarwal/.wdm/drivers/geckodriver/macos/v0.31.0/geckodriver] found in cache\n"
     ]
    },
    {
     "name": "stdout",
     "output_type": "stream",
     "text": [
      "<selenium.webdriver.firefox.firefox_profile.FirefoxProfile object at 0x7f89a0ef4130>\n",
      "<fake_useragent.fake.FakeUserAgent object at 0x7f89a0ef4640>\n",
      "Visage Imaging, https://discovery.hgdata.com/collection/visage-imaging-products-services, All products and technologies we track from Visage Imaging\n"
     ]
    },
    {
     "name": "stderr",
     "output_type": "stream",
     "text": [
      "\n",
      "\n",
      "====== WebDriver manager ======\n",
      "GH_TOKEN will be used to perform requests\n",
      "Current firefox version is 100.0\n",
      "Get LATEST geckodriver version for 100.0 firefox\n",
      "Driver [/Users/shagarwal/.wdm/drivers/geckodriver/macos/v0.31.0/geckodriver] found in cache\n"
     ]
    },
    {
     "name": "stdout",
     "output_type": "stream",
     "text": [
      "<selenium.webdriver.firefox.firefox_profile.FirefoxProfile object at 0x7f89a0ef4640>\n",
      "<fake_useragent.fake.FakeUserAgent object at 0x7f89a0ef4280>\n",
      "Visonex, https://discovery.hgdata.com/collection/visonex-products-services, All products and technologies we track from Visonex\n"
     ]
    },
    {
     "name": "stderr",
     "output_type": "stream",
     "text": [
      "\n",
      "\n",
      "====== WebDriver manager ======\n",
      "GH_TOKEN will be used to perform requests\n",
      "Current firefox version is 100.0\n",
      "Get LATEST geckodriver version for 100.0 firefox\n",
      "Driver [/Users/shagarwal/.wdm/drivers/geckodriver/macos/v0.31.0/geckodriver] found in cache\n"
     ]
    },
    {
     "name": "stdout",
     "output_type": "stream",
     "text": [
      "<selenium.webdriver.firefox.firefox_profile.FirefoxProfile object at 0x7f89a0ef4280>\n",
      "<fake_useragent.fake.FakeUserAgent object at 0x7f89a0a20940>\n",
      "Vertical Market Software, https://discovery.hgdata.com/collection/vertical-market-software-products-services, All products and technologies we track from Vertical Market Software\n"
     ]
    },
    {
     "name": "stderr",
     "output_type": "stream",
     "text": [
      "\n",
      "\n",
      "====== WebDriver manager ======\n",
      "GH_TOKEN will be used to perform requests\n",
      "Current firefox version is 100.0\n",
      "Get LATEST geckodriver version for 100.0 firefox\n",
      "Driver [/Users/shagarwal/.wdm/drivers/geckodriver/macos/v0.31.0/geckodriver] found in cache\n"
     ]
    },
    {
     "name": "stdout",
     "output_type": "stream",
     "text": [
      "<selenium.webdriver.firefox.firefox_profile.FirefoxProfile object at 0x7f89a0a20940>\n",
      "<fake_useragent.fake.FakeUserAgent object at 0x7f89a15311f0>\n",
      "Waypoint Software, https://discovery.hgdata.com/collection/waypoint-software-products-services, All products and technologies we track from Waypoint Software\n"
     ]
    },
    {
     "name": "stderr",
     "output_type": "stream",
     "text": [
      "\n",
      "\n",
      "====== WebDriver manager ======\n",
      "GH_TOKEN will be used to perform requests\n",
      "Current firefox version is 100.0\n",
      "Get LATEST geckodriver version for 100.0 firefox\n",
      "Driver [/Users/shagarwal/.wdm/drivers/geckodriver/macos/v0.31.0/geckodriver] found in cache\n"
     ]
    },
    {
     "name": "stdout",
     "output_type": "stream",
     "text": [
      "<selenium.webdriver.firefox.firefox_profile.FirefoxProfile object at 0x7f89a15311f0>\n",
      "<fake_useragent.fake.FakeUserAgent object at 0x7f89a15314f0>\n",
      "Webgility, https://discovery.hgdata.com/collection/webgility-products-services, All products and technologies we track from Webgility\n"
     ]
    },
    {
     "name": "stderr",
     "output_type": "stream",
     "text": [
      "\n",
      "\n",
      "====== WebDriver manager ======\n",
      "GH_TOKEN will be used to perform requests\n",
      "Current firefox version is 100.0\n",
      "Get LATEST geckodriver version for 100.0 firefox\n",
      "Driver [/Users/shagarwal/.wdm/drivers/geckodriver/macos/v0.31.0/geckodriver] found in cache\n"
     ]
    },
    {
     "name": "stdout",
     "output_type": "stream",
     "text": [
      "<selenium.webdriver.firefox.firefox_profile.FirefoxProfile object at 0x7f89a15314f0>\n",
      "<fake_useragent.fake.FakeUserAgent object at 0x7f89a099a6d0>\n",
      "Flant JSC, https://discovery.hgdata.com/collection/flant-jsc-products-services, All products and technologies we track from Flant JSC\n"
     ]
    },
    {
     "name": "stderr",
     "output_type": "stream",
     "text": [
      "\n",
      "\n",
      "====== WebDriver manager ======\n",
      "GH_TOKEN will be used to perform requests\n",
      "Current firefox version is 100.0\n",
      "Get LATEST geckodriver version for 100.0 firefox\n",
      "Driver [/Users/shagarwal/.wdm/drivers/geckodriver/macos/v0.31.0/geckodriver] found in cache\n"
     ]
    },
    {
     "name": "stdout",
     "output_type": "stream",
     "text": [
      "<selenium.webdriver.firefox.firefox_profile.FirefoxProfile object at 0x7f89a154ad60>\n",
      "<fake_useragent.fake.FakeUserAgent object at 0x7f89a154a460>\n",
      "Windward Software, https://discovery.hgdata.com/collection/windward-software-products-services, All products and technologies we track from Windward Software\n"
     ]
    },
    {
     "name": "stderr",
     "output_type": "stream",
     "text": [
      "\n",
      "\n",
      "====== WebDriver manager ======\n",
      "GH_TOKEN will be used to perform requests\n",
      "Current firefox version is 100.0\n",
      "Get LATEST geckodriver version for 100.0 firefox\n",
      "Driver [/Users/shagarwal/.wdm/drivers/geckodriver/macos/v0.31.0/geckodriver] found in cache\n"
     ]
    },
    {
     "name": "stdout",
     "output_type": "stream",
     "text": [
      "<selenium.webdriver.firefox.firefox_profile.FirefoxProfile object at 0x7f89a099cca0>\n",
      "<fake_useragent.fake.FakeUserAgent object at 0x7f89a154a610>\n",
      "WittyParrot, https://discovery.hgdata.com/collection/wittyparrot-products-services, All products and technologies we track from WittyParrot\n"
     ]
    },
    {
     "name": "stderr",
     "output_type": "stream",
     "text": [
      "\n",
      "\n",
      "====== WebDriver manager ======\n",
      "GH_TOKEN will be used to perform requests\n",
      "Current firefox version is 100.0\n",
      "Get LATEST geckodriver version for 100.0 firefox\n",
      "Driver [/Users/shagarwal/.wdm/drivers/geckodriver/macos/v0.31.0/geckodriver] found in cache\n"
     ]
    },
    {
     "name": "stdout",
     "output_type": "stream",
     "text": [
      "<selenium.webdriver.firefox.firefox_profile.FirefoxProfile object at 0x7f89a154a610>\n",
      "<fake_useragent.fake.FakeUserAgent object at 0x7f89a154af70>\n",
      "WizIQ, https://discovery.hgdata.com/collection/wiziq-products-services, All products and technologies we track from WizIQ\n"
     ]
    },
    {
     "name": "stderr",
     "output_type": "stream",
     "text": [
      "\n",
      "\n",
      "====== WebDriver manager ======\n",
      "GH_TOKEN will be used to perform requests\n",
      "Current firefox version is 100.0\n",
      "Get LATEST geckodriver version for 100.0 firefox\n",
      "Driver [/Users/shagarwal/.wdm/drivers/geckodriver/macos/v0.31.0/geckodriver] found in cache\n"
     ]
    },
    {
     "name": "stdout",
     "output_type": "stream",
     "text": [
      "<selenium.webdriver.firefox.firefox_profile.FirefoxProfile object at 0x7f89a154af70>\n",
      "<fake_useragent.fake.FakeUserAgent object at 0x7f89a1b40550>\n",
      "WorkBright, https://discovery.hgdata.com/collection/workbright-products-services, All products and technologies we track from WorkBright\n"
     ]
    },
    {
     "name": "stderr",
     "output_type": "stream",
     "text": [
      "\n",
      "\n",
      "====== WebDriver manager ======\n",
      "GH_TOKEN will be used to perform requests\n",
      "Current firefox version is 100.0\n",
      "Get LATEST geckodriver version for 100.0 firefox\n",
      "Driver [/Users/shagarwal/.wdm/drivers/geckodriver/macos/v0.31.0/geckodriver] found in cache\n"
     ]
    },
    {
     "name": "stdout",
     "output_type": "stream",
     "text": [
      "<selenium.webdriver.firefox.firefox_profile.FirefoxProfile object at 0x7f89a1b40550>\n",
      "<fake_useragent.fake.FakeUserAgent object at 0x7f89a1b402e0>\n",
      "WorldwideDNS, https://discovery.hgdata.com/collection/worldwidedns-products-services, All products and technologies we track from WorldwideDNS\n"
     ]
    },
    {
     "name": "stderr",
     "output_type": "stream",
     "text": [
      "\n",
      "\n",
      "====== WebDriver manager ======\n",
      "GH_TOKEN will be used to perform requests\n",
      "Current firefox version is 100.0\n",
      "Get LATEST geckodriver version for 100.0 firefox\n",
      "Driver [/Users/shagarwal/.wdm/drivers/geckodriver/macos/v0.31.0/geckodriver] found in cache\n"
     ]
    },
    {
     "name": "stdout",
     "output_type": "stream",
     "text": [
      "<selenium.webdriver.firefox.firefox_profile.FirefoxProfile object at 0x7f89a1b402e0>\n",
      "<fake_useragent.fake.FakeUserAgent object at 0x7f89a0998fd0>\n",
      "WRS Health, https://discovery.hgdata.com/collection/wrs-health-products-services, All products and technologies we track from WRS Health\n"
     ]
    },
    {
     "name": "stderr",
     "output_type": "stream",
     "text": [
      "\n",
      "\n",
      "====== WebDriver manager ======\n",
      "GH_TOKEN will be used to perform requests\n",
      "Current firefox version is 100.0\n",
      "Get LATEST geckodriver version for 100.0 firefox\n",
      "Driver [/Users/shagarwal/.wdm/drivers/geckodriver/macos/v0.31.0/geckodriver] found in cache\n"
     ]
    },
    {
     "name": "stdout",
     "output_type": "stream",
     "text": [
      "<selenium.webdriver.firefox.firefox_profile.FirefoxProfile object at 0x7f89a0ef45e0>\n",
      "<fake_useragent.fake.FakeUserAgent object at 0x7f89a0ef4490>\n",
      "XPS Parcel, https://discovery.hgdata.com/collection/xps-parcel-products-services, All products and technologies we track from XPS Parcel\n"
     ]
    },
    {
     "name": "stderr",
     "output_type": "stream",
     "text": [
      "\n",
      "\n",
      "====== WebDriver manager ======\n",
      "GH_TOKEN will be used to perform requests\n",
      "Current firefox version is 100.0\n",
      "Get LATEST geckodriver version for 100.0 firefox\n",
      "Driver [/Users/shagarwal/.wdm/drivers/geckodriver/macos/v0.31.0/geckodriver] found in cache\n"
     ]
    },
    {
     "name": "stdout",
     "output_type": "stream",
     "text": [
      "<selenium.webdriver.firefox.firefox_profile.FirefoxProfile object at 0x7f89a0ef4490>\n",
      "<fake_useragent.fake.FakeUserAgent object at 0x7f89a0ef4070>\n",
      "Ziiva, https://discovery.hgdata.com/collection/ziiva-products-services, All products and technologies we track from Ziiva\n"
     ]
    },
    {
     "name": "stderr",
     "output_type": "stream",
     "text": [
      "\n",
      "\n",
      "====== WebDriver manager ======\n",
      "GH_TOKEN will be used to perform requests\n",
      "Current firefox version is 100.0\n",
      "Get LATEST geckodriver version for 100.0 firefox\n",
      "Driver [/Users/shagarwal/.wdm/drivers/geckodriver/macos/v0.31.0/geckodriver] found in cache\n"
     ]
    },
    {
     "name": "stdout",
     "output_type": "stream",
     "text": [
      "<selenium.webdriver.firefox.firefox_profile.FirefoxProfile object at 0x7f89a0ef4070>\n",
      "<fake_useragent.fake.FakeUserAgent object at 0x7f89a0a20b20>\n",
      "ZoneEdit, https://discovery.hgdata.com/collection/zoneedit-products-services, All products and technologies we track from ZoneEdit\n"
     ]
    },
    {
     "name": "stderr",
     "output_type": "stream",
     "text": [
      "\n",
      "\n",
      "====== WebDriver manager ======\n",
      "GH_TOKEN will be used to perform requests\n",
      "Current firefox version is 100.0\n",
      "Get LATEST geckodriver version for 100.0 firefox\n",
      "Driver [/Users/shagarwal/.wdm/drivers/geckodriver/macos/v0.31.0/geckodriver] found in cache\n"
     ]
    },
    {
     "name": "stdout",
     "output_type": "stream",
     "text": [
      "<selenium.webdriver.firefox.firefox_profile.FirefoxProfile object at 0x7f89a0a20b20>\n",
      "<fake_useragent.fake.FakeUserAgent object at 0x7f89a1531400>\n",
      "Airtable, https://discovery.hgdata.com/collection/airtable-products-services, All products and technologies we track from Airtable\n"
     ]
    },
    {
     "name": "stderr",
     "output_type": "stream",
     "text": [
      "\n",
      "\n",
      "====== WebDriver manager ======\n",
      "GH_TOKEN will be used to perform requests\n",
      "Current firefox version is 100.0\n",
      "Get LATEST geckodriver version for 100.0 firefox\n",
      "Driver [/Users/shagarwal/.wdm/drivers/geckodriver/macos/v0.31.0/geckodriver] found in cache\n"
     ]
    },
    {
     "name": "stdout",
     "output_type": "stream",
     "text": [
      "<selenium.webdriver.firefox.firefox_profile.FirefoxProfile object at 0x7f89a1531400>\n",
      "<fake_useragent.fake.FakeUserAgent object at 0x7f89a1531850>\n",
      "Angular, https://discovery.hgdata.com/collection/angular-products-services, All products and technologies we track from Angular\n"
     ]
    },
    {
     "name": "stderr",
     "output_type": "stream",
     "text": [
      "\n",
      "\n",
      "====== WebDriver manager ======\n",
      "GH_TOKEN will be used to perform requests\n",
      "Current firefox version is 100.0\n",
      "Get LATEST geckodriver version for 100.0 firefox\n",
      "Driver [/Users/shagarwal/.wdm/drivers/geckodriver/macos/v0.31.0/geckodriver] found in cache\n"
     ]
    },
    {
     "name": "stdout",
     "output_type": "stream",
     "text": [
      "<selenium.webdriver.firefox.firefox_profile.FirefoxProfile object at 0x7f89a1531850>\n",
      "<fake_useragent.fake.FakeUserAgent object at 0x7f89a099a4c0>\n",
      "Aptum Technologies, https://discovery.hgdata.com/collection/aptum-technologies-products-services, All products and technologies we track from Aptum Technologies\n"
     ]
    },
    {
     "name": "stderr",
     "output_type": "stream",
     "text": [
      "\n",
      "\n",
      "====== WebDriver manager ======\n",
      "GH_TOKEN will be used to perform requests\n",
      "Current firefox version is 100.0\n",
      "Get LATEST geckodriver version for 100.0 firefox\n",
      "Driver [/Users/shagarwal/.wdm/drivers/geckodriver/macos/v0.31.0/geckodriver] found in cache\n"
     ]
    },
    {
     "name": "stdout",
     "output_type": "stream",
     "text": [
      "<selenium.webdriver.firefox.firefox_profile.FirefoxProfile object at 0x7f89a154a610>\n",
      "<fake_useragent.fake.FakeUserAgent object at 0x7f899c7c0e80>\n",
      "Blender Foundation, https://discovery.hgdata.com/collection/blender-foundation-products-services, All products and technologies we track from Blender Foundation\n"
     ]
    },
    {
     "name": "stderr",
     "output_type": "stream",
     "text": [
      "\n",
      "\n",
      "====== WebDriver manager ======\n",
      "GH_TOKEN will be used to perform requests\n",
      "Current firefox version is 100.0\n",
      "Get LATEST geckodriver version for 100.0 firefox\n",
      "Driver [/Users/shagarwal/.wdm/drivers/geckodriver/macos/v0.31.0/geckodriver] found in cache\n"
     ]
    },
    {
     "name": "stdout",
     "output_type": "stream",
     "text": [
      "<selenium.webdriver.firefox.firefox_profile.FirefoxProfile object at 0x7f899c7c0e80>\n",
      "<fake_useragent.fake.FakeUserAgent object at 0x7f89a099caf0>\n",
      "ClickFunnels, https://discovery.hgdata.com/collection/clickfunnels-products-services, All products and technologies we track from ClickFunnels\n"
     ]
    },
    {
     "name": "stderr",
     "output_type": "stream",
     "text": [
      "\n",
      "\n",
      "====== WebDriver manager ======\n",
      "GH_TOKEN will be used to perform requests\n",
      "Current firefox version is 100.0\n",
      "Get LATEST geckodriver version for 100.0 firefox\n",
      "Driver [/Users/shagarwal/.wdm/drivers/geckodriver/macos/v0.31.0/geckodriver] found in cache\n"
     ]
    },
    {
     "name": "stdout",
     "output_type": "stream",
     "text": [
      "<selenium.webdriver.firefox.firefox_profile.FirefoxProfile object at 0x7f89a099caf0>\n",
      "<fake_useragent.fake.FakeUserAgent object at 0x7f899e08e040>\n",
      "CodeIgniter Foundation, https://discovery.hgdata.com/collection/codeigniter-foundation-products-services, All products and technologies we track from CodeIgniter Foundation\n"
     ]
    },
    {
     "name": "stderr",
     "output_type": "stream",
     "text": [
      "\n",
      "\n",
      "====== WebDriver manager ======\n",
      "GH_TOKEN will be used to perform requests\n",
      "Current firefox version is 100.0\n",
      "Get LATEST geckodriver version for 100.0 firefox\n",
      "Driver [/Users/shagarwal/.wdm/drivers/geckodriver/macos/v0.31.0/geckodriver] found in cache\n"
     ]
    },
    {
     "name": "stdout",
     "output_type": "stream",
     "text": [
      "<selenium.webdriver.firefox.firefox_profile.FirefoxProfile object at 0x7f899e08e040>\n",
      "<fake_useragent.fake.FakeUserAgent object at 0x7f89a1b405e0>\n",
      "Concrete CMS, https://discovery.hgdata.com/collection/concrete-cms-products-services, All products and technologies we track from Concrete CMS\n"
     ]
    },
    {
     "name": "stderr",
     "output_type": "stream",
     "text": [
      "\n",
      "\n",
      "====== WebDriver manager ======\n",
      "GH_TOKEN will be used to perform requests\n",
      "Current firefox version is 100.0\n",
      "Get LATEST geckodriver version for 100.0 firefox\n",
      "Driver [/Users/shagarwal/.wdm/drivers/geckodriver/macos/v0.31.0/geckodriver] found in cache\n"
     ]
    },
    {
     "name": "stdout",
     "output_type": "stream",
     "text": [
      "<selenium.webdriver.firefox.firefox_profile.FirefoxProfile object at 0x7f89a1b405e0>\n",
      "<fake_useragent.fake.FakeUserAgent object at 0x7f89a1b405b0>\n",
      "CS-Cart, https://discovery.hgdata.com/collection/cs-cart-products-services, All products and technologies we track from CS-Cart\n"
     ]
    },
    {
     "name": "stderr",
     "output_type": "stream",
     "text": [
      "\n",
      "\n",
      "====== WebDriver manager ======\n",
      "GH_TOKEN will be used to perform requests\n",
      "Current firefox version is 100.0\n",
      "Get LATEST geckodriver version for 100.0 firefox\n",
      "Driver [/Users/shagarwal/.wdm/drivers/geckodriver/macos/v0.31.0/geckodriver] found in cache\n"
     ]
    },
    {
     "name": "stdout",
     "output_type": "stream",
     "text": [
      "<selenium.webdriver.firefox.firefox_profile.FirefoxProfile object at 0x7f89a1b405b0>\n",
      "<fake_useragent.fake.FakeUserAgent object at 0x7f89a0998a00>\n",
      "DATEV eG, https://discovery.hgdata.com/collection/datev-eg-products-services, All products and technologies we track from DATEV eG\n"
     ]
    },
    {
     "name": "stderr",
     "output_type": "stream",
     "text": [
      "\n",
      "\n",
      "====== WebDriver manager ======\n",
      "GH_TOKEN will be used to perform requests\n",
      "Current firefox version is 100.0\n",
      "Get LATEST geckodriver version for 100.0 firefox\n",
      "Driver [/Users/shagarwal/.wdm/drivers/geckodriver/macos/v0.31.0/geckodriver] found in cache\n"
     ]
    },
    {
     "name": "stdout",
     "output_type": "stream",
     "text": [
      "<selenium.webdriver.firefox.firefox_profile.FirefoxProfile object at 0x7f89a0ef4160>\n",
      "<fake_useragent.fake.FakeUserAgent object at 0x7f89a0ef43a0>\n",
      "DNS Made Easy, https://discovery.hgdata.com/collection/dns-made-easy-products-services, All products and technologies we track from DNS Made Easy\n"
     ]
    },
    {
     "name": "stderr",
     "output_type": "stream",
     "text": [
      "\n",
      "\n",
      "====== WebDriver manager ======\n",
      "GH_TOKEN will be used to perform requests\n",
      "Current firefox version is 100.0\n",
      "Get LATEST geckodriver version for 100.0 firefox\n",
      "Driver [/Users/shagarwal/.wdm/drivers/geckodriver/macos/v0.31.0/geckodriver] found in cache\n"
     ]
    },
    {
     "name": "stdout",
     "output_type": "stream",
     "text": [
      "<selenium.webdriver.firefox.firefox_profile.FirefoxProfile object at 0x7f89a0ef43a0>\n",
      "<fake_useragent.fake.FakeUserAgent object at 0x7f89a0ef4460>\n",
      "Errorception, https://discovery.hgdata.com/collection/errorception-products-services, All products and technologies we track from Errorception\n"
     ]
    },
    {
     "name": "stderr",
     "output_type": "stream",
     "text": [
      "\n",
      "\n",
      "====== WebDriver manager ======\n",
      "GH_TOKEN will be used to perform requests\n",
      "Current firefox version is 100.0\n",
      "Get LATEST geckodriver version for 100.0 firefox\n",
      "Driver [/Users/shagarwal/.wdm/drivers/geckodriver/macos/v0.31.0/geckodriver] found in cache\n"
     ]
    },
    {
     "name": "stdout",
     "output_type": "stream",
     "text": [
      "<selenium.webdriver.firefox.firefox_profile.FirefoxProfile object at 0x7f89a0ef4460>\n",
      "<fake_useragent.fake.FakeUserAgent object at 0x7f89a0a20670>\n",
      "The Freebsd Foundation, https://discovery.hgdata.com/collection/the-freebsd-foundation-products-services, All products and technologies we track from The Freebsd Foundation\n"
     ]
    },
    {
     "name": "stderr",
     "output_type": "stream",
     "text": [
      "\n",
      "\n",
      "====== WebDriver manager ======\n",
      "GH_TOKEN will be used to perform requests\n",
      "Current firefox version is 100.0\n",
      "Get LATEST geckodriver version for 100.0 firefox\n",
      "Driver [/Users/shagarwal/.wdm/drivers/geckodriver/macos/v0.31.0/geckodriver] found in cache\n"
     ]
    },
    {
     "name": "stdout",
     "output_type": "stream",
     "text": [
      "<selenium.webdriver.firefox.firefox_profile.FirefoxProfile object at 0x7f89a0a20670>\n",
      "<fake_useragent.fake.FakeUserAgent object at 0x7f89a1531bb0>\n",
      "Highsoft AS, https://discovery.hgdata.com/collection/highsoft-as-products-services, All products and technologies we track from Highsoft AS\n"
     ]
    },
    {
     "name": "stderr",
     "output_type": "stream",
     "text": [
      "\n",
      "\n",
      "====== WebDriver manager ======\n",
      "GH_TOKEN will be used to perform requests\n",
      "Current firefox version is 100.0\n",
      "Get LATEST geckodriver version for 100.0 firefox\n",
      "Driver [/Users/shagarwal/.wdm/drivers/geckodriver/macos/v0.31.0/geckodriver] found in cache\n"
     ]
    },
    {
     "name": "stdout",
     "output_type": "stream",
     "text": [
      "<selenium.webdriver.firefox.firefox_profile.FirefoxProfile object at 0x7f89a0a201c0>\n",
      "<fake_useragent.fake.FakeUserAgent object at 0x7f89a1531220>\n",
      "Histats, https://discovery.hgdata.com/collection/histats-products-services, All products and technologies we track from Histats\n"
     ]
    },
    {
     "name": "stderr",
     "output_type": "stream",
     "text": [
      "\n",
      "\n",
      "====== WebDriver manager ======\n",
      "GH_TOKEN will be used to perform requests\n",
      "Current firefox version is 100.0\n",
      "Get LATEST geckodriver version for 100.0 firefox\n",
      "Driver [/Users/shagarwal/.wdm/drivers/geckodriver/macos/v0.31.0/geckodriver] found in cache\n"
     ]
    },
    {
     "name": "stdout",
     "output_type": "stream",
     "text": [
      "<selenium.webdriver.firefox.firefox_profile.FirefoxProfile object at 0x7f89a1531220>\n",
      "<fake_useragent.fake.FakeUserAgent object at 0x7f89a099aca0>\n",
      "Keap, https://discovery.hgdata.com/collection/keap-products-services, All products and technologies we track from Keap\n"
     ]
    },
    {
     "name": "stderr",
     "output_type": "stream",
     "text": [
      "\n",
      "\n",
      "====== WebDriver manager ======\n",
      "GH_TOKEN will be used to perform requests\n",
      "Current firefox version is 100.0\n",
      "Get LATEST geckodriver version for 100.0 firefox\n",
      "Driver [/Users/shagarwal/.wdm/drivers/geckodriver/macos/v0.31.0/geckodriver] found in cache\n"
     ]
    },
    {
     "name": "stdout",
     "output_type": "stream",
     "text": [
      "<selenium.webdriver.firefox.firefox_profile.FirefoxProfile object at 0x7f89a154a070>\n",
      "<fake_useragent.fake.FakeUserAgent object at 0x7f899be31e50>\n",
      "Ionic, https://discovery.hgdata.com/collection/ionic-products-services, All products and technologies we track from Ionic\n"
     ]
    },
    {
     "name": "stderr",
     "output_type": "stream",
     "text": [
      "\n",
      "\n",
      "====== WebDriver manager ======\n",
      "GH_TOKEN will be used to perform requests\n",
      "Current firefox version is 100.0\n",
      "Get LATEST geckodriver version for 100.0 firefox\n",
      "Driver [/Users/shagarwal/.wdm/drivers/geckodriver/macos/v0.31.0/geckodriver] found in cache\n"
     ]
    },
    {
     "name": "stdout",
     "output_type": "stream",
     "text": [
      "<selenium.webdriver.firefox.firefox_profile.FirefoxProfile object at 0x7f899be31e50>\n",
      "<fake_useragent.fake.FakeUserAgent object at 0x7f89a154ae20>\n",
      "JW Player, https://discovery.hgdata.com/collection/jw-player-products-services, All products and technologies we track from JW Player\n"
     ]
    },
    {
     "name": "stderr",
     "output_type": "stream",
     "text": [
      "\n",
      "\n",
      "====== WebDriver manager ======\n",
      "GH_TOKEN will be used to perform requests\n",
      "Current firefox version is 100.0\n",
      "Get LATEST geckodriver version for 100.0 firefox\n",
      "Driver [/Users/shagarwal/.wdm/drivers/geckodriver/macos/v0.31.0/geckodriver] found in cache\n"
     ]
    },
    {
     "name": "stdout",
     "output_type": "stream",
     "text": [
      "<selenium.webdriver.firefox.firefox_profile.FirefoxProfile object at 0x7f89a154ae20>\n",
      "<fake_useragent.fake.FakeUserAgent object at 0x7f89a154ab50>\n",
      "KISSmetrics, https://discovery.hgdata.com/collection/kissmetrics-products-services, All products and technologies we track from KISSmetrics\n"
     ]
    },
    {
     "name": "stderr",
     "output_type": "stream",
     "text": [
      "\n",
      "\n",
      "====== WebDriver manager ======\n",
      "GH_TOKEN will be used to perform requests\n",
      "Current firefox version is 100.0\n",
      "Get LATEST geckodriver version for 100.0 firefox\n",
      "Driver [/Users/shagarwal/.wdm/drivers/geckodriver/macos/v0.31.0/geckodriver] found in cache\n"
     ]
    },
    {
     "name": "stdout",
     "output_type": "stream",
     "text": [
      "<selenium.webdriver.firefox.firefox_profile.FirefoxProfile object at 0x7f89a154ab50>\n",
      "<fake_useragent.fake.FakeUserAgent object at 0x7f89a1b40850>\n",
      "The Document Foundation, https://discovery.hgdata.com/collection/the-document-foundation-products-services, All products and technologies we track from The Document Foundation\n"
     ]
    },
    {
     "name": "stderr",
     "output_type": "stream",
     "text": [
      "\n",
      "\n",
      "====== WebDriver manager ======\n",
      "GH_TOKEN will be used to perform requests\n",
      "Current firefox version is 100.0\n",
      "Get LATEST geckodriver version for 100.0 firefox\n",
      "Driver [/Users/shagarwal/.wdm/drivers/geckodriver/macos/v0.31.0/geckodriver] found in cache\n"
     ]
    },
    {
     "name": "stdout",
     "output_type": "stream",
     "text": [
      "<selenium.webdriver.firefox.firefox_profile.FirefoxProfile object at 0x7f89a1b40850>\n",
      "<fake_useragent.fake.FakeUserAgent object at 0x7f89a1b40880>\n",
      "LiveInternet.ru, https://discovery.hgdata.com/collection/liveinternet-ru-products-services, All products and technologies we track from LiveInternet.ru\n"
     ]
    },
    {
     "name": "stderr",
     "output_type": "stream",
     "text": [
      "\n",
      "\n",
      "====== WebDriver manager ======\n",
      "GH_TOKEN will be used to perform requests\n",
      "Current firefox version is 100.0\n",
      "Get LATEST geckodriver version for 100.0 firefox\n",
      "Driver [/Users/shagarwal/.wdm/drivers/geckodriver/macos/v0.31.0/geckodriver] found in cache\n"
     ]
    },
    {
     "name": "stdout",
     "output_type": "stream",
     "text": [
      "<selenium.webdriver.firefox.firefox_profile.FirefoxProfile object at 0x7f89a1b40880>\n",
      "<fake_useragent.fake.FakeUserAgent object at 0x7f89a09989d0>\n",
      "MathJax, https://discovery.hgdata.com/collection/mathjax-products-services, All products and technologies we track from MathJax\n"
     ]
    },
    {
     "name": "stderr",
     "output_type": "stream",
     "text": [
      "\n",
      "\n",
      "====== WebDriver manager ======\n",
      "GH_TOKEN will be used to perform requests\n",
      "Current firefox version is 100.0\n",
      "Get LATEST geckodriver version for 100.0 firefox\n",
      "Driver [/Users/shagarwal/.wdm/drivers/geckodriver/macos/v0.31.0/geckodriver] found in cache\n"
     ]
    },
    {
     "name": "stdout",
     "output_type": "stream",
     "text": [
      "<selenium.webdriver.firefox.firefox_profile.FirefoxProfile object at 0x7f89a0ef4640>\n",
      "<fake_useragent.fake.FakeUserAgent object at 0x7f89a0ef42b0>\n",
      "Matomo, https://discovery.hgdata.com/collection/matomo-products-services, All products and technologies we track from Matomo\n"
     ]
    },
    {
     "name": "stderr",
     "output_type": "stream",
     "text": [
      "\n",
      "\n",
      "====== WebDriver manager ======\n",
      "GH_TOKEN will be used to perform requests\n",
      "Current firefox version is 100.0\n",
      "Get LATEST geckodriver version for 100.0 firefox\n",
      "Driver [/Users/shagarwal/.wdm/drivers/geckodriver/macos/v0.31.0/geckodriver] found in cache\n"
     ]
    },
    {
     "name": "stdout",
     "output_type": "stream",
     "text": [
      "<selenium.webdriver.firefox.firefox_profile.FirefoxProfile object at 0x7f89a0ef42b0>\n",
      "<fake_useragent.fake.FakeUserAgent object at 0x7f89a0ef46a0>\n",
      "MikroTik SIA, https://discovery.hgdata.com/collection/mikrotik-sia-products-services, All products and technologies we track from MikroTik SIA\n"
     ]
    },
    {
     "name": "stderr",
     "output_type": "stream",
     "text": [
      "\n",
      "\n",
      "====== WebDriver manager ======\n",
      "GH_TOKEN will be used to perform requests\n",
      "Current firefox version is 100.0\n",
      "Get LATEST geckodriver version for 100.0 firefox\n",
      "Driver [/Users/shagarwal/.wdm/drivers/geckodriver/macos/v0.31.0/geckodriver] found in cache\n"
     ]
    },
    {
     "name": "stdout",
     "output_type": "stream",
     "text": [
      "<selenium.webdriver.firefox.firefox_profile.FirefoxProfile object at 0x7f89a0ef46a0>\n",
      "<fake_useragent.fake.FakeUserAgent object at 0x7f89a0a20b20>\n",
      "Nagios Enterprises, https://discovery.hgdata.com/collection/nagios-enterprises-products-services, All products and technologies we track from Nagios Enterprises\n"
     ]
    },
    {
     "name": "stderr",
     "output_type": "stream",
     "text": [
      "\n",
      "\n",
      "====== WebDriver manager ======\n",
      "GH_TOKEN will be used to perform requests\n",
      "Current firefox version is 100.0\n",
      "Get LATEST geckodriver version for 100.0 firefox\n",
      "Driver [/Users/shagarwal/.wdm/drivers/geckodriver/macos/v0.31.0/geckodriver] found in cache\n"
     ]
    },
    {
     "name": "stdout",
     "output_type": "stream",
     "text": [
      "<selenium.webdriver.firefox.firefox_profile.FirefoxProfile object at 0x7f89a0a20b20>\n",
      "<fake_useragent.fake.FakeUserAgent object at 0x7f89a15315e0>\n",
      "ThemeIsle, https://discovery.hgdata.com/collection/themeisle-products-services, All products and technologies we track from ThemeIsle\n"
     ]
    },
    {
     "name": "stderr",
     "output_type": "stream",
     "text": [
      "\n",
      "\n",
      "====== WebDriver manager ======\n",
      "GH_TOKEN will be used to perform requests\n",
      "Current firefox version is 100.0\n",
      "Get LATEST geckodriver version for 100.0 firefox\n",
      "Driver [/Users/shagarwal/.wdm/drivers/geckodriver/macos/v0.31.0/geckodriver] found in cache\n"
     ]
    },
    {
     "name": "stdout",
     "output_type": "stream",
     "text": [
      "<selenium.webdriver.firefox.firefox_profile.FirefoxProfile object at 0x7f89a15315e0>\n",
      "<fake_useragent.fake.FakeUserAgent object at 0x7f89a1531670>\n",
      "Olark, https://discovery.hgdata.com/collection/olark-products-services, All products and technologies we track from Olark\n"
     ]
    },
    {
     "name": "stderr",
     "output_type": "stream",
     "text": [
      "\n",
      "\n",
      "====== WebDriver manager ======\n",
      "GH_TOKEN will be used to perform requests\n",
      "Current firefox version is 100.0\n",
      "Get LATEST geckodriver version for 100.0 firefox\n",
      "Driver [/Users/shagarwal/.wdm/drivers/geckodriver/macos/v0.31.0/geckodriver] found in cache\n"
     ]
    },
    {
     "name": "stdout",
     "output_type": "stream",
     "text": [
      "<selenium.webdriver.firefox.firefox_profile.FirefoxProfile object at 0x7f89a1531670>\n",
      "<fake_useragent.fake.FakeUserAgent object at 0x7f89a099a970>\n",
      "OpenCart, https://discovery.hgdata.com/collection/opencart-products-services, All products and technologies we track from OpenCart\n"
     ]
    },
    {
     "name": "stderr",
     "output_type": "stream",
     "text": [
      "\n",
      "\n",
      "====== WebDriver manager ======\n",
      "GH_TOKEN will be used to perform requests\n",
      "Current firefox version is 100.0\n",
      "Get LATEST geckodriver version for 100.0 firefox\n",
      "Driver [/Users/shagarwal/.wdm/drivers/geckodriver/macos/v0.31.0/geckodriver] found in cache\n"
     ]
    },
    {
     "name": "stdout",
     "output_type": "stream",
     "text": [
      "<selenium.webdriver.firefox.firefox_profile.FirefoxProfile object at 0x7f89a154a580>\n",
      "<fake_useragent.fake.FakeUserAgent object at 0x7f89a154a730>\n",
      "Open Source Vision Foundation, https://discovery.hgdata.com/collection/open-source-vision-foundation-products-services, All products and technologies we track from Open Source Vision Foundation\n"
     ]
    },
    {
     "name": "stderr",
     "output_type": "stream",
     "text": [
      "\n",
      "\n",
      "====== WebDriver manager ======\n",
      "GH_TOKEN will be used to perform requests\n",
      "Current firefox version is 100.0\n",
      "Get LATEST geckodriver version for 100.0 firefox\n",
      "Driver [/Users/shagarwal/.wdm/drivers/geckodriver/macos/v0.31.0/geckodriver] found in cache\n"
     ]
    },
    {
     "name": "stdout",
     "output_type": "stream",
     "text": [
      "<selenium.webdriver.firefox.firefox_profile.FirefoxProfile object at 0x7f89a154a730>\n",
      "<fake_useragent.fake.FakeUserAgent object at 0x7f89a099c070>\n",
      "osCommerce, https://discovery.hgdata.com/collection/oscommerce-products-services, All products and technologies we track from osCommerce\n"
     ]
    },
    {
     "name": "stderr",
     "output_type": "stream",
     "text": [
      "\n",
      "\n",
      "====== WebDriver manager ======\n",
      "GH_TOKEN will be used to perform requests\n",
      "Current firefox version is 100.0\n",
      "Get LATEST geckodriver version for 100.0 firefox\n",
      "Driver [/Users/shagarwal/.wdm/drivers/geckodriver/macos/v0.31.0/geckodriver] found in cache\n"
     ]
    },
    {
     "name": "stdout",
     "output_type": "stream",
     "text": [
      "<selenium.webdriver.firefox.firefox_profile.FirefoxProfile object at 0x7f89a099c070>\n",
      "<fake_useragent.fake.FakeUserAgent object at 0x7f89a154a0d0>\n",
      "OVH Hosting, https://discovery.hgdata.com/collection/ovh-hosting-products-services, All products and technologies we track from OVH Hosting\n"
     ]
    },
    {
     "name": "stderr",
     "output_type": "stream",
     "text": [
      "\n",
      "\n",
      "====== WebDriver manager ======\n",
      "GH_TOKEN will be used to perform requests\n",
      "Current firefox version is 100.0\n",
      "Get LATEST geckodriver version for 100.0 firefox\n",
      "Driver [/Users/shagarwal/.wdm/drivers/geckodriver/macos/v0.31.0/geckodriver] found in cache\n"
     ]
    },
    {
     "name": "stdout",
     "output_type": "stream",
     "text": [
      "<selenium.webdriver.firefox.firefox_profile.FirefoxProfile object at 0x7f89a154a0d0>\n",
      "<fake_useragent.fake.FakeUserAgent object at 0x7f89a1b40400>\n",
      "Perl, https://discovery.hgdata.com/collection/perl-products-services, All products and technologies we track from Perl\n"
     ]
    },
    {
     "name": "stderr",
     "output_type": "stream",
     "text": [
      "\n",
      "\n",
      "====== WebDriver manager ======\n",
      "GH_TOKEN will be used to perform requests\n",
      "Current firefox version is 100.0\n",
      "Get LATEST geckodriver version for 100.0 firefox\n",
      "Driver [/Users/shagarwal/.wdm/drivers/geckodriver/macos/v0.31.0/geckodriver] found in cache\n"
     ]
    },
    {
     "name": "stdout",
     "output_type": "stream",
     "text": [
      "<selenium.webdriver.firefox.firefox_profile.FirefoxProfile object at 0x7f89a1b40400>\n",
      "<fake_useragent.fake.FakeUserAgent object at 0x7f89a1b40730>\n",
      "PostgreSQL Global Development, https://discovery.hgdata.com/collection/postgresql-global-development-products-services, All products and technologies we track from PostgreSQL Global Development\n"
     ]
    },
    {
     "name": "stderr",
     "output_type": "stream",
     "text": [
      "\n",
      "\n",
      "====== WebDriver manager ======\n",
      "GH_TOKEN will be used to perform requests\n",
      "Current firefox version is 100.0\n",
      "Get LATEST geckodriver version for 100.0 firefox\n",
      "Driver [/Users/shagarwal/.wdm/drivers/geckodriver/macos/v0.31.0/geckodriver] found in cache\n"
     ]
    },
    {
     "name": "stdout",
     "output_type": "stream",
     "text": [
      "<selenium.webdriver.firefox.firefox_profile.FirefoxProfile object at 0x7f89a1b40730>\n",
      "<fake_useragent.fake.FakeUserAgent object at 0x7f89a0998be0>\n",
      "Screaming Frog, https://discovery.hgdata.com/collection/screaming-frog-products-services, All products and technologies we track from Screaming Frog\n"
     ]
    },
    {
     "name": "stderr",
     "output_type": "stream",
     "text": [
      "\n",
      "\n",
      "====== WebDriver manager ======\n",
      "GH_TOKEN will be used to perform requests\n",
      "Current firefox version is 100.0\n",
      "Get LATEST geckodriver version for 100.0 firefox\n",
      "Driver [/Users/shagarwal/.wdm/drivers/geckodriver/macos/v0.31.0/geckodriver] found in cache\n"
     ]
    },
    {
     "name": "stdout",
     "output_type": "stream",
     "text": [
      "<selenium.webdriver.firefox.firefox_profile.FirefoxProfile object at 0x7f89a0ef4640>\n",
      "<fake_useragent.fake.FakeUserAgent object at 0x7f89a0ef4400>\n",
      "Skai, https://discovery.hgdata.com/collection/skai-products-services, All products and technologies we track from Skai\n"
     ]
    },
    {
     "name": "stderr",
     "output_type": "stream",
     "text": [
      "\n",
      "\n",
      "====== WebDriver manager ======\n",
      "GH_TOKEN will be used to perform requests\n",
      "Current firefox version is 100.0\n",
      "Get LATEST geckodriver version for 100.0 firefox\n",
      "Driver [/Users/shagarwal/.wdm/drivers/geckodriver/macos/v0.31.0/geckodriver] found in cache\n"
     ]
    },
    {
     "name": "stdout",
     "output_type": "stream",
     "text": [
      "<selenium.webdriver.firefox.firefox_profile.FirefoxProfile object at 0x7f89a0ef4400>\n",
      "<fake_useragent.fake.FakeUserAgent object at 0x7f89a0ef4250>\n",
      "SkimLinks, https://discovery.hgdata.com/collection/skimlinks-products-services, All products and technologies we track from SkimLinks\n"
     ]
    },
    {
     "name": "stderr",
     "output_type": "stream",
     "text": [
      "\n",
      "\n",
      "====== WebDriver manager ======\n",
      "GH_TOKEN will be used to perform requests\n",
      "Current firefox version is 100.0\n",
      "Get LATEST geckodriver version for 100.0 firefox\n",
      "Driver [/Users/shagarwal/.wdm/drivers/geckodriver/macos/v0.31.0/geckodriver] found in cache\n"
     ]
    },
    {
     "name": "stdout",
     "output_type": "stream",
     "text": [
      "<selenium.webdriver.firefox.firefox_profile.FirefoxProfile object at 0x7f89a0ef4250>\n",
      "<fake_useragent.fake.FakeUserAgent object at 0x7f89a0a20e20>\n",
      "SQLite Consortium, https://discovery.hgdata.com/collection/sqlite-consortium-products-services, All products and technologies we track from SQLite Consortium\n"
     ]
    },
    {
     "name": "stderr",
     "output_type": "stream",
     "text": [
      "\n",
      "\n",
      "====== WebDriver manager ======\n",
      "GH_TOKEN will be used to perform requests\n",
      "Current firefox version is 100.0\n",
      "Get LATEST geckodriver version for 100.0 firefox\n",
      "Driver [/Users/shagarwal/.wdm/drivers/geckodriver/macos/v0.31.0/geckodriver] found in cache\n"
     ]
    },
    {
     "name": "stdout",
     "output_type": "stream",
     "text": [
      "<selenium.webdriver.firefox.firefox_profile.FirefoxProfile object at 0x7f89a0a20e20>\n",
      "<fake_useragent.fake.FakeUserAgent object at 0x7f89a1531160>\n",
      "Starfield Technologies, https://discovery.hgdata.com/collection/starfield-technologies-products-services, All products and technologies we track from Starfield Technologies\n"
     ]
    },
    {
     "name": "stderr",
     "output_type": "stream",
     "text": [
      "\n",
      "\n",
      "====== WebDriver manager ======\n",
      "GH_TOKEN will be used to perform requests\n",
      "Current firefox version is 100.0\n",
      "Get LATEST geckodriver version for 100.0 firefox\n",
      "Driver [/Users/shagarwal/.wdm/drivers/geckodriver/macos/v0.31.0/geckodriver] found in cache\n"
     ]
    },
    {
     "name": "stdout",
     "output_type": "stream",
     "text": [
      "<selenium.webdriver.firefox.firefox_profile.FirefoxProfile object at 0x7f89a1531160>\n",
      "<fake_useragent.fake.FakeUserAgent object at 0x7f89a1531f70>\n",
      "StatCounter, https://discovery.hgdata.com/collection/statcounter-products-services, All products and technologies we track from StatCounter\n"
     ]
    },
    {
     "name": "stderr",
     "output_type": "stream",
     "text": [
      "\n",
      "\n",
      "====== WebDriver manager ======\n",
      "GH_TOKEN will be used to perform requests\n",
      "Current firefox version is 100.0\n",
      "Get LATEST geckodriver version for 100.0 firefox\n",
      "Driver [/Users/shagarwal/.wdm/drivers/geckodriver/macos/v0.31.0/geckodriver] found in cache\n"
     ]
    },
    {
     "name": "stdout",
     "output_type": "stream",
     "text": [
      "<selenium.webdriver.firefox.firefox_profile.FirefoxProfile object at 0x7f89a1531f70>\n",
      "<fake_useragent.fake.FakeUserAgent object at 0x7f89a099ac10>\n",
      "Cody Lindley, https://discovery.hgdata.com/collection/cody-lindley-products-services, All products and technologies we track from Cody Lindley\n"
     ]
    },
    {
     "name": "stderr",
     "output_type": "stream",
     "text": [
      "\n",
      "\n",
      "====== WebDriver manager ======\n",
      "GH_TOKEN will be used to perform requests\n",
      "Current firefox version is 100.0\n",
      "Get LATEST geckodriver version for 100.0 firefox\n",
      "Driver [/Users/shagarwal/.wdm/drivers/geckodriver/macos/v0.31.0/geckodriver] found in cache\n"
     ]
    },
    {
     "name": "stdout",
     "output_type": "stream",
     "text": [
      "<selenium.webdriver.firefox.firefox_profile.FirefoxProfile object at 0x7f89a1b40f70>\n",
      "<fake_useragent.fake.FakeUserAgent object at 0x7f89a1b407f0>\n",
      "TINT, https://discovery.hgdata.com/collection/tint-products-services, All products and technologies we track from TINT\n"
     ]
    },
    {
     "name": "stderr",
     "output_type": "stream",
     "text": [
      "\n",
      "\n",
      "====== WebDriver manager ======\n",
      "GH_TOKEN will be used to perform requests\n",
      "Current firefox version is 100.0\n",
      "Get LATEST geckodriver version for 100.0 firefox\n",
      "Driver [/Users/shagarwal/.wdm/drivers/geckodriver/macos/v0.31.0/geckodriver] found in cache\n"
     ]
    },
    {
     "name": "stdout",
     "output_type": "stream",
     "text": [
      "<selenium.webdriver.firefox.firefox_profile.FirefoxProfile object at 0x7f89a1b407f0>\n",
      "<fake_useragent.fake.FakeUserAgent object at 0x7f89a1b40460>\n",
      "Tumblr, https://discovery.hgdata.com/collection/tumblr-products-services, All products and technologies we track from Tumblr\n"
     ]
    },
    {
     "name": "stderr",
     "output_type": "stream",
     "text": [
      "\n",
      "\n",
      "====== WebDriver manager ======\n",
      "GH_TOKEN will be used to perform requests\n",
      "Current firefox version is 100.0\n",
      "Get LATEST geckodriver version for 100.0 firefox\n",
      "Driver [/Users/shagarwal/.wdm/drivers/geckodriver/macos/v0.31.0/geckodriver] found in cache\n"
     ]
    },
    {
     "name": "stdout",
     "output_type": "stream",
     "text": [
      "<selenium.webdriver.firefox.firefox_profile.FirefoxProfile object at 0x7f899c7c0e80>\n",
      "<fake_useragent.fake.FakeUserAgent object at 0x7f899c7c0d90>\n",
      "TYPO3 Association, https://discovery.hgdata.com/collection/typo3-association-products-services, All products and technologies we track from TYPO3 Association\n"
     ]
    },
    {
     "name": "stderr",
     "output_type": "stream",
     "text": [
      "\n",
      "\n",
      "====== WebDriver manager ======\n",
      "GH_TOKEN will be used to perform requests\n",
      "Current firefox version is 100.0\n",
      "Get LATEST geckodriver version for 100.0 firefox\n",
      "Driver [/Users/shagarwal/.wdm/drivers/geckodriver/macos/v0.31.0/geckodriver] found in cache\n"
     ]
    },
    {
     "name": "stdout",
     "output_type": "stream",
     "text": [
      "<selenium.webdriver.firefox.firefox_profile.FirefoxProfile object at 0x7f899c7c0d90>\n",
      "<fake_useragent.fake.FakeUserAgent object at 0x7f89a1b40220>\n",
      "Umbraco HQ, https://discovery.hgdata.com/collection/umbraco-hq-products-services, All products and technologies we track from Umbraco HQ\n"
     ]
    },
    {
     "name": "stderr",
     "output_type": "stream",
     "text": [
      "\n",
      "\n",
      "====== WebDriver manager ======\n",
      "GH_TOKEN will be used to perform requests\n",
      "Current firefox version is 100.0\n",
      "Get LATEST geckodriver version for 100.0 firefox\n",
      "Driver [/Users/shagarwal/.wdm/drivers/geckodriver/macos/v0.31.0/geckodriver] found in cache\n"
     ]
    },
    {
     "name": "stdout",
     "output_type": "stream",
     "text": [
      "<selenium.webdriver.firefox.firefox_profile.FirefoxProfile object at 0x7f89a1b40220>\n",
      "<fake_useragent.fake.FakeUserAgent object at 0x7f89a154a520>\n",
      "VirtueMart, https://discovery.hgdata.com/collection/virtuemart-products-services, All products and technologies we track from VirtueMart\n"
     ]
    },
    {
     "name": "stderr",
     "output_type": "stream",
     "text": [
      "\n",
      "\n",
      "====== WebDriver manager ======\n",
      "GH_TOKEN will be used to perform requests\n",
      "Current firefox version is 100.0\n",
      "Get LATEST geckodriver version for 100.0 firefox\n",
      "Driver [/Users/shagarwal/.wdm/drivers/geckodriver/macos/v0.31.0/geckodriver] found in cache\n"
     ]
    },
    {
     "name": "stdout",
     "output_type": "stream",
     "text": [
      "<selenium.webdriver.firefox.firefox_profile.FirefoxProfile object at 0x7f89a154a520>\n",
      "<fake_useragent.fake.FakeUserAgent object at 0x7f89a0998970>\n",
      "Connectivity Standards Alliance, https://discovery.hgdata.com/collection/connectivity-standards-alliance-products-services, All products and technologies we track from Connectivity Standards Alliance\n"
     ]
    }
   ],
   "source": [
    "os.environ['GH_TOKEN'] = \"removed-for-github-upload\"\n",
    "\n",
    "    \n",
    "df_temp = pd.DataFrame()\n",
    "\n",
    "#Reading sample input\n",
    "input_products = pd.read_csv(\"/Users/shagarwal/Documents/HG_Insights/SubCat_description_from_hg/inouts/HgInsights_subcat_final_nodupe.csv\")\n",
    "for index,row in input_products[1285:].iterrows():\n",
    "    templist = []\n",
    "    category_name = row[0]\n",
    "    category_url = row[1]\n",
    "    try:\n",
    "        #Initiating driver and loading HGinsights\n",
    "        firefox_options = FirefoxOptions()\n",
    "        firefox_options.headless = True\n",
    "        useragent = UserAgent()\n",
    "        profile = webdriver.FirefoxProfile() \n",
    "        profile_2 = profile.set_preference(\"general.useragent.override\", useragent.random)\n",
    "        driver = webdriver.Firefox(options=firefox_options ,firefox_profile=profile_2, service=Service(GeckoDriverManager().install()))\n",
    "        driver.set_page_load_timeout(60)\n",
    "        print(profile)\n",
    "        print(useragent)\n",
    "        driver.get(category_url)\n",
    "        driver.maximize_window()\n",
    "        driver.set_page_load_timeout(60)\n",
    "        #//div/div[2][contains(@class, 'collection-details-description')\n",
    "        #Sub - Category  Description\n",
    "        try:\n",
    "            #//div/div[2][contains(@class, 'collection-details-description')]\n",
    "            sub_cat_description = driver.find_element(By.XPATH, \"//div/div[2][contains(@class, 'collection-details-description')]\").text\n",
    "            #print(sub_cat_description)\n",
    "        except:\n",
    "            sub_cat_description = \" \"\n",
    "            print(\"sub_cat_description Not Found\")\n",
    "        #Products under sub category and product url\n",
    "        #//li/a[contains(@class, 'default-link')]\n",
    "        card_list = []\n",
    "        all_products = driver.find_elements(By.XPATH, \"//li/a[contains(@class, 'default-link')]\")\n",
    "        for prod in all_products:\n",
    "            #product name\n",
    "            try:\n",
    "                product_name = prod.text\n",
    "            except:\n",
    "                product_name = \" \"\n",
    "                print(\"product name not found\")\n",
    "            #product url\n",
    "            #\n",
    "            try:\n",
    "                product_url = prod.get_attribute('href')\n",
    "            except:\n",
    "                product_url = \" \"\n",
    "                print(\"product_url not found\")\n",
    "            print(f\"{category_name}, {category_url}, {sub_cat_description}\")\n",
    "            table_dict = {'category_name': category_name, 'category_url': category_url, 'sub_cat_description': sub_cat_description, 'product_name': product_name, 'product_url': product_url}\n",
    "            templist.append(table_dict)\n",
    "    except requests.exceptions.ConnectionError:\n",
    "        r.status_code = \"Connection refused\"\n",
    "        time.sleep(60)\n",
    "    else:\n",
    "        df_temp = pd.DataFrame(templist)\n",
    "        df_temp.to_csv(f\"/Users/shagarwal/Documents/HG_Insights/SubCat_description_from_hg/outputs/{category_name}.csv\", index=False)\n",
    "        driver.quit()\n",
    "        time.sleep(2)\n",
    "        \n"
   ]
  },
  {
   "cell_type": "code",
   "execution_count": null,
   "id": "f198150e",
   "metadata": {},
   "outputs": [],
   "source": []
  }
 ],
 "metadata": {
  "kernelspec": {
   "display_name": "Python 3 (ipykernel)",
   "language": "python",
   "name": "python3"
  },
  "language_info": {
   "codemirror_mode": {
    "name": "ipython",
    "version": 3
   },
   "file_extension": ".py",
   "mimetype": "text/x-python",
   "name": "python",
   "nbconvert_exporter": "python",
   "pygments_lexer": "ipython3",
   "version": "3.12.2"
  }
 },
 "nbformat": 4,
 "nbformat_minor": 5
}
