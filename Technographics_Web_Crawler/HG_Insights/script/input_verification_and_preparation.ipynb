{
 "cells": [
  {
   "cell_type": "code",
   "execution_count": 49,
   "id": "bcff43ba",
   "metadata": {},
   "outputs": [],
   "source": [
    "import pandas as pd"
   ]
  },
  {
   "cell_type": "code",
   "execution_count": 50,
   "id": "eda5a737",
   "metadata": {},
   "outputs": [],
   "source": [
    "hginsights_input = pd.read_csv(\"/Users/shagarwal/Documents/HG Insights/input/R1_R2_R3_R4_V2_initial.csv\")"
   ]
  },
  {
   "cell_type": "code",
   "execution_count": 51,
   "id": "d23ba41f",
   "metadata": {},
   "outputs": [
    {
     "data": {
      "text/html": [
       "<div>\n",
       "<style scoped>\n",
       "    .dataframe tbody tr th:only-of-type {\n",
       "        vertical-align: middle;\n",
       "    }\n",
       "\n",
       "    .dataframe tbody tr th {\n",
       "        vertical-align: top;\n",
       "    }\n",
       "\n",
       "    .dataframe thead th {\n",
       "        text-align: right;\n",
       "    }\n",
       "</style>\n",
       "<table border=\"1\" class=\"dataframe\">\n",
       "  <thead>\n",
       "    <tr style=\"text-align: right;\">\n",
       "      <th></th>\n",
       "      <th>Product_Name</th>\n",
       "    </tr>\n",
       "  </thead>\n",
       "  <tbody>\n",
       "    <tr>\n",
       "      <th>0</th>\n",
       "      <td>QuickBooks</td>\n",
       "    </tr>\n",
       "    <tr>\n",
       "      <th>1</th>\n",
       "      <td>Xero</td>\n",
       "    </tr>\n",
       "    <tr>\n",
       "      <th>2</th>\n",
       "      <td>Bench</td>\n",
       "    </tr>\n",
       "    <tr>\n",
       "      <th>3</th>\n",
       "      <td>QuickBooks Desktop</td>\n",
       "    </tr>\n",
       "    <tr>\n",
       "      <th>4</th>\n",
       "      <td>Sage Intacct</td>\n",
       "    </tr>\n",
       "  </tbody>\n",
       "</table>\n",
       "</div>"
      ],
      "text/plain": [
       "         Product_Name\n",
       "0          QuickBooks\n",
       "1                Xero\n",
       "2               Bench\n",
       "3  QuickBooks Desktop\n",
       "4        Sage Intacct"
      ]
     },
     "execution_count": 51,
     "metadata": {},
     "output_type": "execute_result"
    }
   ],
   "source": [
    "hginsights_input.head()"
   ]
  },
  {
   "cell_type": "code",
   "execution_count": 52,
   "id": "fb208f1d",
   "metadata": {},
   "outputs": [
    {
     "data": {
      "text/plain": [
       "(339022, 1)"
      ]
     },
     "execution_count": 52,
     "metadata": {},
     "output_type": "execute_result"
    }
   ],
   "source": [
    "hginsights_input.shape"
   ]
  },
  {
   "cell_type": "code",
   "execution_count": 53,
   "id": "086be584",
   "metadata": {},
   "outputs": [
    {
     "data": {
      "text/plain": [
       "Index(['Product_Name'], dtype='object')"
      ]
     },
     "execution_count": 53,
     "metadata": {},
     "output_type": "execute_result"
    }
   ],
   "source": [
    "hginsights_input.columns"
   ]
  },
  {
   "cell_type": "code",
   "execution_count": 54,
   "id": "062bf6aa",
   "metadata": {},
   "outputs": [
    {
     "data": {
      "text/plain": [
       "False    186426\n",
       "True     152596\n",
       "dtype: int64"
      ]
     },
     "execution_count": 54,
     "metadata": {},
     "output_type": "execute_result"
    }
   ],
   "source": [
    "hginsights_input_dupe = hginsights_input.duplicated(subset = 'Product_Name' ,keep=\"first\")\n",
    "hginsights_input_dupe_count = hginsights_input_dupe.value_counts()\n",
    "hginsights_input_dupe_count"
   ]
  },
  {
   "cell_type": "code",
   "execution_count": 43,
   "id": "94439454",
   "metadata": {},
   "outputs": [],
   "source": [
    "hginsights_input.drop_duplicates().to_csv(\"/Users/shagarwal/Documents/HG Insights/input/final_input.csv\")"
   ]
  },
  {
   "cell_type": "code",
   "execution_count": 41,
   "id": "befd5532",
   "metadata": {},
   "outputs": [
    {
     "data": {
      "text/html": [
       "<div>\n",
       "<style scoped>\n",
       "    .dataframe tbody tr th:only-of-type {\n",
       "        vertical-align: middle;\n",
       "    }\n",
       "\n",
       "    .dataframe tbody tr th {\n",
       "        vertical-align: top;\n",
       "    }\n",
       "\n",
       "    .dataframe thead th {\n",
       "        text-align: right;\n",
       "    }\n",
       "</style>\n",
       "<table border=\"1\" class=\"dataframe\">\n",
       "  <thead>\n",
       "    <tr style=\"text-align: right;\">\n",
       "      <th></th>\n",
       "      <th>Product_Name</th>\n",
       "    </tr>\n",
       "  </thead>\n",
       "  <tbody>\n",
       "    <tr>\n",
       "      <th>0</th>\n",
       "      <td>QuickBooks</td>\n",
       "    </tr>\n",
       "    <tr>\n",
       "      <th>1</th>\n",
       "      <td>Xero</td>\n",
       "    </tr>\n",
       "    <tr>\n",
       "      <th>2</th>\n",
       "      <td>Bench</td>\n",
       "    </tr>\n",
       "    <tr>\n",
       "      <th>3</th>\n",
       "      <td>QuickBooks Desktop</td>\n",
       "    </tr>\n",
       "    <tr>\n",
       "      <th>4</th>\n",
       "      <td>Sage Intacct</td>\n",
       "    </tr>\n",
       "  </tbody>\n",
       "</table>\n",
       "</div>"
      ],
      "text/plain": [
       "         Product_Name\n",
       "0          QuickBooks\n",
       "1                Xero\n",
       "2               Bench\n",
       "3  QuickBooks Desktop\n",
       "4        Sage Intacct"
      ]
     },
     "execution_count": 41,
     "metadata": {},
     "output_type": "execute_result"
    }
   ],
   "source": [
    "hginsights_input.head()"
   ]
  },
  {
   "cell_type": "code",
   "execution_count": 42,
   "id": "ec8c2b68",
   "metadata": {},
   "outputs": [
    {
     "data": {
      "text/html": [
       "<div>\n",
       "<style scoped>\n",
       "    .dataframe tbody tr th:only-of-type {\n",
       "        vertical-align: middle;\n",
       "    }\n",
       "\n",
       "    .dataframe tbody tr th {\n",
       "        vertical-align: top;\n",
       "    }\n",
       "\n",
       "    .dataframe thead th {\n",
       "        text-align: right;\n",
       "    }\n",
       "</style>\n",
       "<table border=\"1\" class=\"dataframe\">\n",
       "  <thead>\n",
       "    <tr style=\"text-align: right;\">\n",
       "      <th></th>\n",
       "      <th>Product_Name</th>\n",
       "    </tr>\n",
       "  </thead>\n",
       "  <tbody>\n",
       "    <tr>\n",
       "      <th>339017</th>\n",
       "      <td>Wine Range</td>\n",
       "    </tr>\n",
       "    <tr>\n",
       "      <th>339018</th>\n",
       "      <td>Vines Online Solution</td>\n",
       "    </tr>\n",
       "    <tr>\n",
       "      <th>339019</th>\n",
       "      <td>Vinsight</td>\n",
       "    </tr>\n",
       "    <tr>\n",
       "      <th>339020</th>\n",
       "      <td>Wine Management System</td>\n",
       "    </tr>\n",
       "    <tr>\n",
       "      <th>339021</th>\n",
       "      <td>VinPoint</td>\n",
       "    </tr>\n",
       "  </tbody>\n",
       "</table>\n",
       "</div>"
      ],
      "text/plain": [
       "                  Product_Name\n",
       "339017              Wine Range\n",
       "339018   Vines Online Solution\n",
       "339019                Vinsight\n",
       "339020  Wine Management System\n",
       "339021                VinPoint"
      ]
     },
     "execution_count": 42,
     "metadata": {},
     "output_type": "execute_result"
    }
   ],
   "source": [
    "hginsights_input.tail()"
   ]
  },
  {
   "cell_type": "code",
   "execution_count": 44,
   "id": "161b5c8c",
   "metadata": {},
   "outputs": [],
   "source": [
    "#Read final input after eliminating duplicates.\n",
    "final_input = pd.read_csv(\"/Users/shagarwal/Documents/HG Insights/input/final_input.csv\")"
   ]
  },
  {
   "cell_type": "code",
   "execution_count": 45,
   "id": "eba1e36a",
   "metadata": {},
   "outputs": [
    {
     "data": {
      "text/plain": [
       "(186426, 2)"
      ]
     },
     "execution_count": 45,
     "metadata": {},
     "output_type": "execute_result"
    }
   ],
   "source": [
    "final_input.shape"
   ]
  },
  {
   "cell_type": "code",
   "execution_count": 48,
   "id": "dce6b5ee",
   "metadata": {},
   "outputs": [
    {
     "data": {
      "text/plain": [
       "False    186426\n",
       "dtype: int64"
      ]
     },
     "execution_count": 48,
     "metadata": {},
     "output_type": "execute_result"
    }
   ],
   "source": [
    "final_input_dupe = final_input.duplicated(subset= None ,keep=\"first\")\n",
    "final_input_dupe_count = final_input_dupe.value_counts()\n",
    "final_input_dupe_count"
   ]
  },
  {
   "cell_type": "code",
   "execution_count": 55,
   "id": "151fc71d",
   "metadata": {},
   "outputs": [
    {
     "data": {
      "text/plain": [
       "(186426, 1)"
      ]
     },
     "execution_count": 55,
     "metadata": {},
     "output_type": "execute_result"
    }
   ],
   "source": []
  },
  {
   "cell_type": "markdown",
   "id": "ae99f986",
   "metadata": {},
   "source": [
    "# Extraction of ~17K products from HGinsights HTML file."
   ]
  },
  {
   "cell_type": "code",
   "execution_count": null,
   "id": "6d8f3d9a",
   "metadata": {},
   "outputs": [],
   "source": []
  }
 ],
 "metadata": {
  "kernelspec": {
   "display_name": "Python 3 (ipykernel)",
   "language": "python",
   "name": "python3"
  },
  "language_info": {
   "codemirror_mode": {
    "name": "ipython",
    "version": 3
   },
   "file_extension": ".py",
   "mimetype": "text/x-python",
   "name": "python",
   "nbconvert_exporter": "python",
   "pygments_lexer": "ipython3",
   "version": "3.9.13"
  }
 },
 "nbformat": 4,
 "nbformat_minor": 5
}
