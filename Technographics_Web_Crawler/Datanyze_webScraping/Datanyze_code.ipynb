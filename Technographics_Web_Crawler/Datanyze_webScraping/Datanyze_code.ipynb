{
 "cells": [
  {
   "cell_type": "code",
   "execution_count": 1,
   "id": "182b5b9d",
   "metadata": {},
   "outputs": [],
   "source": [
    "#pip install webdriver_manager\n",
    "from selenium import webdriver\n",
    "from selenium.webdriver.common.by import By\n",
    "from webdriver_manager.chrome import ChromeDriverManager\n",
    "import time\n",
    "import pandas as pd"
   ]
  },
  {
   "cell_type": "code",
   "execution_count": 2,
   "id": "2c665171",
   "metadata": {},
   "outputs": [
    {
     "name": "stderr",
     "output_type": "stream",
     "text": [
      "\n",
      "\n",
      "====== WebDriver manager ======\n",
      "Current google-chrome version is 101.0.4951\n",
      "Get LATEST chromedriver version for 101.0.4951 google-chrome\n",
      "Driver [/Users/shagarwal/.wdm/drivers/chromedriver/mac64/101.0.4951.41/chromedriver] found in cache\n",
      "/var/folders/19/rxnzmy3s3451t4_8x5tm5vdr0000gp/T/ipykernel_7880/2872953462.py:1: DeprecationWarning: executable_path has been deprecated, please pass in a Service object\n",
      "  driver = webdriver.Chrome(ChromeDriverManager().install())\n"
     ]
    }
   ],
   "source": [
    "driver = webdriver.Chrome(ChromeDriverManager().install())\n",
    "driver.maximize_window()\n",
    "driver.get(\"https://www.datanyze.com/market-share\")\n",
    "driver.implicitly_wait(10)\n",
    "\n",
    "parent_category_list = []\n",
    "sub_category_list = []\n",
    "sub_category_href_list = []\n",
    "tech_count_sub_category_list = []\n",
    "\n",
    "#Parent Category\n",
    "#for parent and sub category- //div[contains(@class,'industry-title-wrapper')]\n",
    "#for just parent category-  //div[contains(@class,\"industry-title-wrapper\n",
    "parent_categories = driver.find_elements(By.XPATH ,'//div[contains(@class,\"industry-title-wrapper\")]')\n",
    "for each_p_c in parent_categories:\n",
    "    #print(each_p_c.text)\n",
    "    parent_category_list.append(each_p_c.text)\n",
    "    #parent_cat = each_p_c.find_element(By.TAG_NAME,'div').text\n",
    "    \n",
    "\n",
    "\n",
    "#Sub category   \n",
    "# //a[contains(@class,\"category-name\")]\n",
    "sub_categories = driver.find_elements(By.XPATH,'//a[contains(@class,\"category-name\")]')\n",
    "for each_s_c in sub_categories:\n",
    "    #print(each_s_c.text)\n",
    "    sub_category_list.append(each_s_c.text)\n",
    "    \n",
    "#No of technologies in each sub category\n",
    "#//span[contains(@class, 'category-number')]\n",
    "tech_count_sub_category = driver.find_elements(By.XPATH,'//span[contains(@class,\"category-number\")]')\n",
    "for each_tech_count in tech_count_sub_category:\n",
    "    tech_count_sub_category_list.append(each_tech_count.text)\n",
    "    \n",
    "\n",
    "#links for each sub-category(href)\n",
    "#\tUse get_attribute('href) – save as url\n",
    "#//a[contains(@href, '/market-share/')]\n",
    "sub_category_href = driver.find_elements(By.XPATH,'//a[contains(@href, \"/market-share/\")]')\n",
    "for each_sub_cat_href in sub_category_href:\n",
    "    #len(sub_category_href)\n",
    "    #print(each_sub_cat_href.get_attribute(\"href\"))\n",
    "    #sub_cat_href = each_sub_cat_href.get_attribute(\"href\")\n",
    "    sub_category_href_list.append(each_sub_cat_href.get_attribute(\"href\"))\n",
    "\n",
    "#driver.quit()"
   ]
  },
  {
   "cell_type": "code",
   "execution_count": 3,
   "id": "44fcb2db",
   "metadata": {},
   "outputs": [
    {
     "name": "stdout",
     "output_type": "stream",
     "text": [
      "Accounting and Finance\n",
      "Advertising\n",
      "Audio, Video, Graphics\n",
      "Communication and Collaboration\n",
      "Customer Service\n",
      "Data Management\n",
      "DevOps\n",
      "E-Commerce\n",
      "Hardware\n",
      "Human Resources\n",
      "Intelligence and Analytics\n",
      "IT Infrastructure\n",
      "Marketing\n",
      "Miscellaneous\n",
      "Operations\n",
      "Programming\n",
      "Sales\n",
      "Security\n",
      "Vertical Industries\n",
      "Web Tools and Plugins\n"
     ]
    }
   ],
   "source": [
    "for data in parent_category_list:\n",
    "    print(data)"
   ]
  },
  {
   "cell_type": "code",
   "execution_count": null,
   "id": "52f17110",
   "metadata": {},
   "outputs": [],
   "source": []
  }
 ],
 "metadata": {
  "kernelspec": {
   "display_name": "Python 3 (ipykernel)",
   "language": "python",
   "name": "python3"
  },
  "language_info": {
   "codemirror_mode": {
    "name": "ipython",
    "version": 3
   },
   "file_extension": ".py",
   "mimetype": "text/x-python",
   "name": "python",
   "nbconvert_exporter": "python",
   "pygments_lexer": "ipython3",
   "version": "3.9.7"
  }
 },
 "nbformat": 4,
 "nbformat_minor": 5
}
