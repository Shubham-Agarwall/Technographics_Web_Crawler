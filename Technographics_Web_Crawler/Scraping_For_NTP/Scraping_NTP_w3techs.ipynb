{
 "cells": [
  {
   "cell_type": "code",
   "execution_count": 2,
   "id": "11db9794",
   "metadata": {},
   "outputs": [],
   "source": [
    "import pandas as pd\n",
    "import json\n",
    "import time\n",
    "import os\n",
    "import ast\n",
    "from ast import literal_eval\n",
    "from collections import OrderedDict\n",
    "import undetected_chromedriver.v2 as uc\n",
    "from selenium import webdriver\n",
    "from selenium.webdriver.firefox.options import Options as FirefoxOptions\n",
    "from webdriver_manager.firefox import GeckoDriverManager\n",
    "from selenium.webdriver.common.action_chains import ActionChains\n",
    "from selenium.webdriver.firefox.service import Service\n",
    "from selenium.webdriver.common.by import By\n",
    "from selenium.webdriver.support.ui import WebDriverWait\n",
    "from selenium.webdriver.support import expected_conditions as EC\n",
    "from selenium.webdriver.support.wait import WebDriverWait\n",
    "from selenium.common.exceptions import NoSuchElementException\n",
    "from selenium.common.exceptions import TimeoutException\n",
    "from datetime import datetime\n",
    "\n",
    "#User Agent\n",
    "from fake_useragent import UserAgent\n",
    "import requests\n",
    "import random\n",
    "from pprint import pprint\n",
    "from fake_useragent import UserAgent\n",
    "from collections import OrderedDict\n",
    "\n",
    "#BS4\n",
    "from bs4 import BeautifulSoup\n",
    "\n",
    "\n",
    "from webdriver_manager.chrome import ChromeDriverManager\n"
   ]
  },
  {
   "cell_type": "code",
   "execution_count": 3,
   "id": "d0f0f796",
   "metadata": {},
   "outputs": [
    {
     "data": {
      "text/plain": [
       "['akamai.com',\n",
       " 'workday.com',\n",
       " 'emerson.com',\n",
       " 'ametek.com',\n",
       " 'amd.com',\n",
       " 'iqvia.com',\n",
       " 'broadcom.com',\n",
       " 'docusign.com']"
      ]
     },
     "execution_count": 3,
     "metadata": {},
     "output_type": "execute_result"
    }
   ],
   "source": [
    "#Inputs \n",
    "\n",
    "['akamai.com',\n",
    " 'workday.com',\n",
    " 'emerson.com',\n",
    " 'ametek.com',\n",
    " 'amd.com',\n",
    " 'iqvia.com',\n",
    " 'broadcom.com',\n",
    " 'docusign.com']\n"
   ]
  },
  {
   "cell_type": "code",
   "execution_count": 13,
   "id": "9b91149d",
   "metadata": {},
   "outputs": [
    {
     "name": "stdout",
     "output_type": "stream",
     "text": [
      "akamai.com\n",
      "https://w3techs.com/sites/info/akamai.com\n",
      "workday.com\n",
      "https://w3techs.com/sites/info/workday.com\n",
      "emerson.com\n",
      "https://w3techs.com/sites/info/emerson.com\n",
      "ametek.com\n",
      "https://w3techs.com/sites/info/ametek.com\n",
      "amd.com\n",
      "https://w3techs.com/sites/info/amd.com\n",
      "iqvia.com\n",
      "https://w3techs.com/sites/info/iqvia.com\n",
      "broadcom.com\n",
      "https://w3techs.com/sites/info/broadcom.com\n",
      "docusign.com\n",
      "https://w3techs.com/sites/info/docusign.com\n"
     ]
    }
   ],
   "source": [
    "os.environ['GH_TOKEN'] = \"Removed-for-github-upload\"\n",
    "\n",
    "df_temp = pd.DataFrame()\n",
    "\n",
    "input_list = ['akamai.com','workday.com','emerson.com','ametek.com','amd.com','iqvia.com','broadcom.com','docusign.com']\n",
    "\n",
    "\n",
    "\n",
    "for item in input_list:\n",
    "    templist = []\n",
    "    href = f\"https://w3techs.com/sites/info/{item}\"\n",
    "    print(item)\n",
    "    print(href)\n",
    "\n",
    "#     try:\n",
    "#         firefox_options = FirefoxOptions()\n",
    "#         #firefox_options.add_argument(\"--headless\")\n",
    "#         driver = webdriver.Firefox(options=firefox_options, service=Service(GeckoDriverManager().install()))\n",
    "#         driver.maximize_window()\n",
    "#         driver.get(href)\n",
    "#         driver.set_page_load_timeout(30)  \n",
    "\n",
    "#         try:\n",
    "#             Description_on_Homepage = driver.find_element(By.XPATH, \"//*[@id='bd']/table/tbody/tr/td/div[2]\").text\n",
    "#         except:\n",
    "#             Description_on_Homepage = \" \"\n",
    "            \n",
    "#         #Popularity rank\n",
    "#         try:\n",
    "#             Popularity_rank = driver.find_element(By.XPATH, \"//*[@id='bd']/table/tbody/tr/td/div[3]\").text\n",
    "#         except:\n",
    "#             Popularity_rank = \" \"\n",
    "        \n",
    "#         #Content Management System\n",
    "#         try:\n",
    "#             Content_Management_System = driver.find_element(By.XPATH, \"//*[@id='bd']/table/tbody/tr/td/p[5]/a\").text\n",
    "#         except:\n",
    "#             Content_Management_System = \" \"\n",
    "        \n",
    "#         print(f\" {index}, {Product_name}, {URL_type}, {URL} \")\n",
    "#         table_dict = {'domain_name': item, 'domain_URL': href, 'Description_on_Homepage': Description_on_Homepage, 'URL': URL, 'product_about_us': product_about_us }\n",
    "        \n",
    "#         templist.append(table_list)\n",
    "#         df_temp = pd.DataFrame(templist)\n",
    "#         df_temp.to_csv(f\"/Users/shagarwal/Documents/Scraping_For_NTP/output/{item}.csv\", index=False)\n",
    "#         driver.quit()\n",
    "#         time.sleep(3)\n",
    "#     except Exception as e:\n",
    "#         print(e)\n",
    "#         time.sleep(10)\n",
    "        "
   ]
  },
  {
   "cell_type": "code",
   "execution_count": null,
   "id": "332f8469",
   "metadata": {},
   "outputs": [],
   "source": []
  }
 ],
 "metadata": {
  "kernelspec": {
   "display_name": "Python 3 (ipykernel)",
   "language": "python",
   "name": "python3"
  },
  "language_info": {
   "codemirror_mode": {
    "name": "ipython",
    "version": 3
   },
   "file_extension": ".py",
   "mimetype": "text/x-python",
   "name": "python",
   "nbconvert_exporter": "python",
   "pygments_lexer": "ipython3",
   "version": "3.12.2"
  }
 },
 "nbformat": 4,
 "nbformat_minor": 5
}
