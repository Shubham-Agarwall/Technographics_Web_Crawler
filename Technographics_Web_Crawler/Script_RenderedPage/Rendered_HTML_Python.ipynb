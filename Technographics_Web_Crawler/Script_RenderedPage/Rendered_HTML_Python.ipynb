{
 "cells": [
  {
   "cell_type": "code",
   "execution_count": 76,
   "id": "53252441",
   "metadata": {},
   "outputs": [
    {
     "name": "stderr",
     "output_type": "stream",
     "text": [
      "[WDM] - Downloading: 16.9kB [00:00, 5.19MB/s]                                   \n",
      "[WDM] - Downloading: 16.9kB [00:00, 6.86MB/s]                                   \n"
     ]
    }
   ],
   "source": [
    "import pandas as pd\n",
    "from selenium.webdriver.firefox.options import Options as FirefoxOptions\n",
    "from webdriver_manager.firefox import GeckoDriverManager\n",
    "from selenium.webdriver.support.ui import WebDriverWait\n",
    "from selenium.webdriver.support.wait import WebDriverWait\n",
    "\n",
    "domain_to_render_list = ['akamai.com', 'amd.com']\n",
    "\n",
    "def render_page_content(domain):\n",
    "    \n",
    "    \n",
    "    for domain in domain_to_render_list:\n",
    "        \n",
    "        prefix = 'http://www.'\n",
    "        url = prefix + domain\n",
    "\n",
    "        try:\n",
    "            df_temp = pd.DataFrame()\n",
    "            templist = []\n",
    "            firefox_options = FirefoxOptions()\n",
    "            firefox_options.add_argument(\"--headless\")\n",
    "            driver = webdriver.Firefox(options=firefox_options, service=Service(GeckoDriverManager().install()))\n",
    "            driver.get(url)\n",
    "            driver.set_page_load_timeout(15)\n",
    "            #print(driver.page_source)\n",
    "            rendered_html = driver.page_source\n",
    "            table_list = { 'Domain': domain, 'Rendered_html': rendered_html }\n",
    "            templist.append(table_list)\n",
    "            df_temp = pd.DataFrame(templist)\n",
    "            df_temp.to_csv(f\"/Users/shagarwal/Documents/Script_RenderedPage/rendered_html_output/{domain}.csv\", index=False)\n",
    "            time.sleep(1)\n",
    "        except:\n",
    "            print(\"*****Could Not Get The Rendered Page*****\")\n",
    "            time.sleep(10)\n",
    "    \n",
    "\n",
    "render_page_content(domain_to_render)\n"
   ]
  },
  {
   "cell_type": "code",
   "execution_count": null,
   "id": "1f7e7146",
   "metadata": {},
   "outputs": [],
   "source": []
  }
 ],
 "metadata": {
  "kernelspec": {
   "display_name": "Python 3 (ipykernel)",
   "language": "python",
   "name": "python3"
  },
  "language_info": {
   "codemirror_mode": {
    "name": "ipython",
    "version": 3
   },
   "file_extension": ".py",
   "mimetype": "text/x-python",
   "name": "python",
   "nbconvert_exporter": "python",
   "pygments_lexer": "ipython3",
   "version": "3.9.13"
  }
 },
 "nbformat": 4,
 "nbformat_minor": 5
}
